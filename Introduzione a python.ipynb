{
 "cells": [
  {
   "cell_type": "markdown",
   "metadata": {
    "ExecuteTime": {
     "end_time": "2018-09-20T20:19:40.772359Z",
     "start_time": "2018-09-20T20:19:40.759391Z"
    },
    "slideshow": {
     "slide_type": "slide"
    }
   },
   "source": [
    "<h1><center>\n",
    "    Introduzione a Python\n",
    "</center></h1>\n"
   ]
  },
  {
   "cell_type": "markdown",
   "metadata": {
    "slideshow": {
     "slide_type": "fragment"
    }
   },
   "source": [
    "<h3><center>\n",
    "    \"Python is a programming language that lets you work quickly and integrate systems more effectively.\"\n",
    "</center><h3>\n",
    "<h5 align=\"right\">\n",
    "    python.org\n",
    "</h5>"
   ]
  },
  {
   "cell_type": "markdown",
   "metadata": {
    "slideshow": {
     "slide_type": "slide"
    }
   },
   "source": [
    "<center> <img src=\"https://scontent-ams3-1.cdninstagram.com/vp/7114bda05b3d85134655e127144b2fab/5C9338B8/t51.2885-15/sh0.08/e35/c0.16.720.720/s640x640/44899810_310212432923701_735992559513383835_n.jpg\" />\n",
    "</center>"
   ]
  },
  {
   "cell_type": "markdown",
   "metadata": {
    "slideshow": {
     "slide_type": "slide"
    }
   },
   "source": [
    "# Tools\n",
    "- Interprete python su terminale\n",
    "    - Downolad: https://www.python.org/downloads/\n",
    "- PyCharm (installare per prossima lezione)\n",
    "    - Download (versione community): https://www.jetbrains.com/pycharm/download/\n",
    "- Jupyter Notebook (presentazione prima lezione)\n",
    "    - Slide su github: https://github.com/Lucaz97/Python-Intro-2019"
   ]
  },
  {
   "cell_type": "markdown",
   "metadata": {
    "slideshow": {
     "slide_type": "slide"
    }
   },
   "source": [
    "<h1><center> Perchè Python?</center></h1>"
   ]
  },
  {
   "cell_type": "markdown",
   "metadata": {
    "ExecuteTime": {
     "end_time": "2019-01-13T20:42:23.611402Z",
     "start_time": "2019-01-13T20:42:23.605850Z"
    },
    "slideshow": {
     "slide_type": "fragment"
    }
   },
   "source": [
    "- facile da imparare"
   ]
  },
  {
   "cell_type": "markdown",
   "metadata": {
    "slideshow": {
     "slide_type": "fragment"
    }
   },
   "source": [
    "- molto versatile\n",
    "    - automatizzare task\n",
    "    - big data analysis \n",
    "    - IoT\n",
    "    - machine learning\n",
    "    - memes\n",
    "    - web server"
   ]
  },
  {
   "cell_type": "markdown",
   "metadata": {
    "slideshow": {
     "slide_type": "slide"
    }
   },
   "source": [
    "<h3><center>Pseudocodice?</center></h3>"
   ]
  },
  {
   "cell_type": "code",
   "execution_count": 1,
   "metadata": {
    "ExecuteTime": {
     "end_time": "2019-02-26T20:33:18.526450Z",
     "start_time": "2019-02-26T20:33:18.522327Z"
    },
    "scrolled": true,
    "slideshow": {
     "slide_type": "fragment"
    }
   },
   "outputs": [
    {
     "name": "stdout",
     "output_type": "stream",
     "text": [
      "73\n"
     ]
    }
   ],
   "source": [
    "lista = [4, 14, 25, 73, 3, 8]\n",
    "max_n = 0\n",
    "\n",
    "for n in lista:\n",
    "    if max_n < n:\n",
    "        max_n = n\n",
    "\n",
    "print(max_n)"
   ]
  },
  {
   "cell_type": "markdown",
   "metadata": {
    "ExecuteTime": {
     "end_time": "2018-09-20T20:29:35.757351Z",
     "start_time": "2018-09-20T20:29:35.754118Z"
    },
    "slideshow": {
     "slide_type": "slide"
    }
   },
   "source": [
    "- dinamically typed"
   ]
  },
  {
   "cell_type": "code",
   "execution_count": 2,
   "metadata": {
    "ExecuteTime": {
     "end_time": "2019-02-26T20:35:17.402148Z",
     "start_time": "2019-02-26T20:35:17.397247Z"
    },
    "slideshow": {
     "slide_type": "fragment"
    }
   },
   "outputs": [
    {
     "name": "stdout",
     "output_type": "stream",
     "text": [
      "x:  1\n",
      "y:  stringa\n",
      "x:  stringa\n",
      "y:  1\n"
     ]
    }
   ],
   "source": [
    "# nome_variabile = assegnamento\n",
    "x = 1\n",
    "print(\"x: \", x)\n",
    "y = \"stringa\"\n",
    "print(\"y: \", y)\n",
    "x = y\n",
    "print(\"x: \", x)\n",
    "y = 1\n",
    "print(\"y: \", y)\n",
    "\n",
    "# mutabilità e immutabilità..."
   ]
  },
  {
   "cell_type": "markdown",
   "metadata": {
    "slideshow": {
     "slide_type": "slide"
    }
   },
   "source": [
    "<h3><center> tipo int, float e operazioni matematiche </center></h3>\n"
   ]
  },
  {
   "cell_type": "markdown",
   "metadata": {
    "ExecuteTime": {
     "end_time": "2018-09-21T17:02:27.881615Z",
     "start_time": "2018-09-21T17:02:27.875073Z"
    },
    "slideshow": {
     "slide_type": "fragment"
    }
   },
   "source": [
    "- sono tipi immutabili"
   ]
  },
  {
   "cell_type": "code",
   "execution_count": 3,
   "metadata": {
    "ExecuteTime": {
     "end_time": "2019-02-26T20:35:44.859658Z",
     "start_time": "2019-02-26T20:35:44.855656Z"
    },
    "slideshow": {
     "slide_type": "fragment"
    }
   },
   "outputs": [
    {
     "name": "stdout",
     "output_type": "stream",
     "text": [
      "x è di tipo  <class 'int'>\n",
      "y è di tipo  <class 'float'>\n",
      "z è di tipo  <class 'complex'>\n"
     ]
    }
   ],
   "source": [
    "x = 10\n",
    "y = 10.0\n",
    "z = 10 + 4j # va bene sia j che J\n",
    "print(\"x è di tipo \", type(x))\n",
    "print(\"y è di tipo \", type(y))\n",
    "print(\"z è di tipo \", type(z))"
   ]
  },
  {
   "cell_type": "code",
   "execution_count": 7,
   "metadata": {
    "ExecuteTime": {
     "end_time": "2019-02-26T20:38:03.355315Z",
     "start_time": "2019-02-26T20:38:03.352529Z"
    },
    "scrolled": true,
    "slideshow": {
     "slide_type": "fragment"
    }
   },
   "outputs": [
    {
     "data": {
      "text/plain": [
       "(-1+0j)"
      ]
     },
     "execution_count": 7,
     "metadata": {},
     "output_type": "execute_result"
    }
   ],
   "source": [
    "1j*1j\n"
   ]
  },
  {
   "cell_type": "markdown",
   "metadata": {
    "ExecuteTime": {
     "end_time": "2018-09-21T17:00:26.697271Z",
     "start_time": "2018-09-21T17:00:26.690951Z"
    },
    "slideshow": {
     "slide_type": "slide"
    }
   },
   "source": [
    "<h3><center> tipo string </center></h3>"
   ]
  },
  {
   "cell_type": "markdown",
   "metadata": {
    "ExecuteTime": {
     "end_time": "2018-09-21T17:02:27.881615Z",
     "start_time": "2018-09-21T17:02:27.875073Z"
    },
    "slideshow": {
     "slide_type": "fragment"
    }
   },
   "source": [
    "- sono tipi immutabili"
   ]
  },
  {
   "cell_type": "code",
   "execution_count": 9,
   "metadata": {
    "ExecuteTime": {
     "end_time": "2019-02-26T20:38:57.510408Z",
     "start_time": "2019-02-26T20:38:57.507926Z"
    },
    "slideshow": {
     "slide_type": "fragment"
    }
   },
   "outputs": [
    {
     "name": "stdout",
     "output_type": "stream",
     "text": [
      "string è di tipo: <class 'str'>\n"
     ]
    }
   ],
   "source": [
    "string = 'stringa'\n",
    "print(\"string è di tipo:\",type(string))"
   ]
  },
  {
   "cell_type": "code",
   "execution_count": 10,
   "metadata": {
    "ExecuteTime": {
     "end_time": "2019-02-26T20:39:25.160042Z",
     "start_time": "2019-02-26T20:39:25.156769Z"
    },
    "slideshow": {
     "slide_type": "fragment"
    }
   },
   "outputs": [
    {
     "data": {
      "text/plain": [
       "'\"Ok!\", risposero in coro.'"
      ]
     },
     "execution_count": 10,
     "metadata": {},
     "output_type": "execute_result"
    }
   ],
   "source": [
    "string = '\"Ok!\", risposero in coro.'\n",
    "string"
   ]
  },
  {
   "cell_type": "code",
   "execution_count": 12,
   "metadata": {
    "ExecuteTime": {
     "end_time": "2019-02-26T20:39:37.778561Z",
     "start_time": "2019-02-26T20:39:37.773686Z"
    },
    "slideshow": {
     "slide_type": "fragment"
    }
   },
   "outputs": [
    {
     "name": "stdout",
     "output_type": "stream",
     "text": [
      "\"un'aquila ci assale\", disse lui.\n"
     ]
    }
   ],
   "source": [
    "string = '\"un\\'aquila ci assale\", disse lui.'\n",
    "#string\n",
    "print(string)"
   ]
  },
  {
   "cell_type": "markdown",
   "metadata": {
    "ExecuteTime": {
     "end_time": "2018-09-21T17:02:27.881615Z",
     "start_time": "2018-09-21T17:02:27.875073Z"
    },
    "slideshow": {
     "slide_type": "slide"
    }
   },
   "source": [
    "- operare con le stringhe (1)"
   ]
  },
  {
   "cell_type": "code",
   "execution_count": null,
   "metadata": {
    "ExecuteTime": {
     "end_time": "2019-01-13T21:09:01.419982Z",
     "start_time": "2019-01-13T21:09:01.418065Z"
    },
    "slideshow": {
     "slide_type": "fragment"
    }
   },
   "outputs": [],
   "source": [
    "string = \"eestec\""
   ]
  },
  {
   "cell_type": "code",
   "execution_count": null,
   "metadata": {
    "ExecuteTime": {
     "end_time": "2019-01-13T21:09:03.444681Z",
     "start_time": "2019-01-13T21:09:03.441913Z"
    },
    "slideshow": {
     "slide_type": "fragment"
    }
   },
   "outputs": [],
   "source": [
    "# accedere a un carattere\n",
    "string[0]"
   ]
  },
  {
   "cell_type": "code",
   "execution_count": null,
   "metadata": {
    "ExecuteTime": {
     "end_time": "2018-10-06T16:25:15.845852Z",
     "start_time": "2018-10-06T16:25:15.842629Z"
    },
    "slideshow": {
     "slide_type": "fragment"
    }
   },
   "outputs": [],
   "source": [
    "# indici negativi inicizzano da destra:\n",
    "string[-1] "
   ]
  },
  {
   "cell_type": "code",
   "execution_count": null,
   "metadata": {
    "ExecuteTime": {
     "end_time": "2018-10-06T16:25:19.704146Z",
     "start_time": "2018-10-06T16:25:19.701421Z"
    },
    "slideshow": {
     "slide_type": "fragment"
    }
   },
   "outputs": [],
   "source": [
    "# posso selezionare anche degli intervalli:\n",
    "string[2:4] "
   ]
  },
  {
   "cell_type": "markdown",
   "metadata": {
    "ExecuteTime": {
     "end_time": "2018-09-21T17:02:27.881615Z",
     "start_time": "2018-09-21T17:02:27.875073Z"
    },
    "slideshow": {
     "slide_type": "slide"
    }
   },
   "source": [
    "- operare con le stringhe (2)"
   ]
  },
  {
   "cell_type": "code",
   "execution_count": null,
   "metadata": {
    "ExecuteTime": {
     "end_time": "2018-10-06T16:26:07.137607Z",
     "start_time": "2018-10-06T16:26:07.135776Z"
    },
    "slideshow": {
     "slide_type": "fragment"
    }
   },
   "outputs": [],
   "source": [
    "string = \"eestec\""
   ]
  },
  {
   "cell_type": "code",
   "execution_count": null,
   "metadata": {
    "ExecuteTime": {
     "end_time": "2018-10-06T16:27:07.968127Z",
     "start_time": "2018-10-06T16:27:07.965070Z"
    },
    "slideshow": {
     "slide_type": "fragment"
    }
   },
   "outputs": [],
   "source": [
    "# operatore somma -> concatenazione\n",
    "\"ab\" + \"cd\"\n",
    "#string[:3] + string[3:]"
   ]
  },
  {
   "cell_type": "code",
   "execution_count": null,
   "metadata": {
    "ExecuteTime": {
     "end_time": "2018-10-06T16:27:10.258855Z",
     "start_time": "2018-10-06T16:27:10.256057Z"
    },
    "slideshow": {
     "slide_type": "fragment"
    }
   },
   "outputs": [],
   "source": [
    "# operatore moltiplicazione per n, n intero -> ripete la stringa n volte\n",
    "\"ciao \" * 3 \n"
   ]
  },
  {
   "cell_type": "markdown",
   "metadata": {
    "slideshow": {
     "slide_type": "slide"
    }
   },
   "source": [
    "- stampare stringhe "
   ]
  },
  {
   "cell_type": "code",
   "execution_count": null,
   "metadata": {
    "ExecuteTime": {
     "end_time": "2018-09-23T10:53:29.322863Z",
     "start_time": "2018-09-23T10:53:29.319110Z"
    },
    "slideshow": {
     "slide_type": "fragment"
    }
   },
   "outputs": [],
   "source": [
    "n = 2\n",
    "c = 'n'\n",
    "print(\"la variabile \" + c + \" contiene: \" + str(n))"
   ]
  },
  {
   "cell_type": "code",
   "execution_count": null,
   "metadata": {
    "ExecuteTime": {
     "end_time": "2018-09-23T10:53:31.221913Z",
     "start_time": "2018-09-23T10:53:31.218766Z"
    },
    "slideshow": {
     "slide_type": "fragment"
    }
   },
   "outputs": [],
   "source": [
    "print(\"la variabile\", c, \"contiene,\", n)"
   ]
  },
  {
   "cell_type": "code",
   "execution_count": null,
   "metadata": {
    "ExecuteTime": {
     "end_time": "2018-09-23T10:54:01.624424Z",
     "start_time": "2018-09-23T10:54:01.618230Z"
    },
    "slideshow": {
     "slide_type": "fragment"
    }
   },
   "outputs": [],
   "source": [
    "# la formattazione C per le stringhe è supportata\n",
    "print(\"la variabile %c contiene: %d\" % (c, n))"
   ]
  },
  {
   "cell_type": "markdown",
   "metadata": {
    "slideshow": {
     "slide_type": "slide"
    }
   },
   "source": [
    "<h3><center> liste </center></h3>"
   ]
  },
  {
   "cell_type": "code",
   "execution_count": 14,
   "metadata": {
    "ExecuteTime": {
     "end_time": "2019-02-26T20:40:54.538148Z",
     "start_time": "2019-02-26T20:40:54.535308Z"
    },
    "slideshow": {
     "slide_type": "fragment"
    }
   },
   "outputs": [
    {
     "data": {
      "text/plain": [
       "list"
      ]
     },
     "execution_count": 14,
     "metadata": {},
     "output_type": "execute_result"
    }
   ],
   "source": [
    "# si inizializzano con [elemento1, elemento2, ..., elementoN]\n",
    "x = [0, 1, 2, 3]\n",
    "type(x)"
   ]
  },
  {
   "cell_type": "code",
   "execution_count": 15,
   "metadata": {
    "ExecuteTime": {
     "end_time": "2019-02-26T20:40:55.884298Z",
     "start_time": "2019-02-26T20:40:55.881480Z"
    },
    "slideshow": {
     "slide_type": "fragment"
    }
   },
   "outputs": [
    {
     "data": {
      "text/plain": [
       "2"
      ]
     },
     "execution_count": 15,
     "metadata": {},
     "output_type": "execute_result"
    }
   ],
   "source": [
    "# si indicizzano con [n]\n",
    "x[2]"
   ]
  },
  {
   "cell_type": "code",
   "execution_count": 16,
   "metadata": {
    "ExecuteTime": {
     "end_time": "2019-02-26T20:40:56.936476Z",
     "start_time": "2019-02-26T20:40:56.933461Z"
    },
    "slideshow": {
     "slide_type": "fragment"
    }
   },
   "outputs": [
    {
     "data": {
      "text/plain": [
       "[1, 2]"
      ]
     },
     "execution_count": 16,
     "metadata": {},
     "output_type": "execute_result"
    }
   ],
   "source": [
    "# selezionare una sottolista: [n:m]\n",
    "sublist = x[1:3]\n",
    "sublist"
   ]
  },
  {
   "cell_type": "markdown",
   "metadata": {
    "slideshow": {
     "slide_type": "slide"
    }
   },
   "source": [
    "- sono mutabili"
   ]
  },
  {
   "cell_type": "code",
   "execution_count": 17,
   "metadata": {
    "ExecuteTime": {
     "end_time": "2019-02-26T20:41:03.624154Z",
     "start_time": "2019-02-26T20:41:03.621139Z"
    },
    "slideshow": {
     "slide_type": "fragment"
    }
   },
   "outputs": [
    {
     "data": {
      "text/plain": [
       "[0, 1, 4, 3]"
      ]
     },
     "execution_count": 17,
     "metadata": {},
     "output_type": "execute_result"
    }
   ],
   "source": [
    "x[2] = 4\n",
    "x"
   ]
  },
  {
   "cell_type": "markdown",
   "metadata": {
    "slideshow": {
     "slide_type": "slide"
    }
   },
   "source": [
    "<h3><center>ATTENZIONE!</center></h3>"
   ]
  },
  {
   "cell_type": "code",
   "execution_count": 18,
   "metadata": {
    "ExecuteTime": {
     "end_time": "2019-02-26T20:41:18.947528Z",
     "start_time": "2019-02-26T20:41:18.943839Z"
    },
    "slideshow": {
     "slide_type": "fragment"
    }
   },
   "outputs": [
    {
     "name": "stdout",
     "output_type": "stream",
     "text": [
      "x:  [0, 1, 2, 3]\n",
      "y:  [0, 1, 2, 3]\n"
     ]
    }
   ],
   "source": [
    "x = [0, 1, 2, 3]\n",
    "y = x\n",
    "print(\"x: \", x)\n",
    "print(\"y: \", y)"
   ]
  },
  {
   "cell_type": "code",
   "execution_count": 19,
   "metadata": {
    "ExecuteTime": {
     "end_time": "2019-02-26T20:41:31.464087Z",
     "start_time": "2019-02-26T20:41:31.460735Z"
    },
    "slideshow": {
     "slide_type": "fragment"
    }
   },
   "outputs": [
    {
     "name": "stdout",
     "output_type": "stream",
     "text": [
      "[0, 1, 10, 3]\n"
     ]
    }
   ],
   "source": [
    "y[2] = 10\n",
    "print(y)"
   ]
  },
  {
   "cell_type": "code",
   "execution_count": 20,
   "metadata": {
    "ExecuteTime": {
     "end_time": "2019-02-26T20:41:40.830422Z",
     "start_time": "2019-02-26T20:41:40.827994Z"
    },
    "slideshow": {
     "slide_type": "fragment"
    }
   },
   "outputs": [
    {
     "name": "stdout",
     "output_type": "stream",
     "text": [
      "[0, 1, 10, 3]\n"
     ]
    }
   ],
   "source": [
    "print(x)"
   ]
  },
  {
   "cell_type": "markdown",
   "metadata": {
    "slideshow": {
     "slide_type": "slide"
    }
   },
   "source": [
    "- liste di tipo ETEROGENEO"
   ]
  },
  {
   "cell_type": "code",
   "execution_count": 21,
   "metadata": {
    "ExecuteTime": {
     "end_time": "2019-02-26T20:41:55.724403Z",
     "start_time": "2019-02-26T20:41:55.720791Z"
    },
    "slideshow": {
     "slide_type": "fragment"
    }
   },
   "outputs": [
    {
     "data": {
      "text/plain": [
       "['ciao',\n",
       " 3,\n",
       " [0, 1, 2],\n",
       " 'cammello',\n",
       " ['n', 'o', 'n', ['fate', 'questo', 'a', 'casa']],\n",
       " (4+6j),\n",
       " 3.09]"
      ]
     },
     "execution_count": 21,
     "metadata": {},
     "output_type": "execute_result"
    }
   ],
   "source": [
    "lista = [\"ciao\", 3 , [0, 1, 2], \"cammello\", ['n', 'o','n', ['fate', \"questo\", \"a\", \"casa\"]], 4+6j, 3.09]\n",
    "lista"
   ]
  },
  {
   "cell_type": "markdown",
   "metadata": {
    "slideshow": {
     "slide_type": "fragment"
    }
   },
   "source": [
    "<h4><center>solo perchè si può fare non vuol dire che sia una buona idea farlo</center></h4>"
   ]
  },
  {
   "cell_type": "code",
   "execution_count": 22,
   "metadata": {
    "ExecuteTime": {
     "end_time": "2019-02-26T20:42:50.155002Z",
     "start_time": "2019-02-26T20:42:50.152033Z"
    },
    "slideshow": {
     "slide_type": "fragment"
    }
   },
   "outputs": [
    {
     "data": {
      "text/plain": [
       "'s'"
      ]
     },
     "execution_count": 22,
     "metadata": {},
     "output_type": "execute_result"
    }
   ],
   "source": [
    "lista[4][3][1][3]"
   ]
  },
  {
   "cell_type": "markdown",
   "metadata": {
    "ExecuteTime": {
     "end_time": "2018-09-24T08:43:21.169227Z",
     "start_time": "2018-09-24T08:43:21.158877Z"
    },
    "slideshow": {
     "slide_type": "slide"
    }
   },
   "source": [
    "- operare con le liste"
   ]
  },
  {
   "cell_type": "code",
   "execution_count": null,
   "metadata": {
    "ExecuteTime": {
     "end_time": "2018-09-26T11:38:59.658652Z",
     "start_time": "2018-09-26T11:38:59.649816Z"
    },
    "slideshow": {
     "slide_type": "fragment"
    }
   },
   "outputs": [],
   "source": [
    "# operatore somma --> concatenzazione\n",
    "x = [0, 1, 2]\n",
    "y = [3, 4, 5]\n",
    "x + y"
   ]
  },
  {
   "cell_type": "code",
   "execution_count": null,
   "metadata": {
    "ExecuteTime": {
     "end_time": "2018-09-24T09:03:06.982505Z",
     "start_time": "2018-09-24T09:03:06.974809Z"
    },
    "slideshow": {
     "slide_type": "fragment"
    }
   },
   "outputs": [],
   "source": [
    "# operatore moltiplicazione per n --> ripete lista n volte\n",
    "x = [1,2,3]*3\n",
    "x"
   ]
  },
  {
   "cell_type": "markdown",
   "metadata": {
    "slideshow": {
     "slide_type": "slide"
    }
   },
   "source": [
    "<h3><center>ATTENZIONE!</center></h3>"
   ]
  },
  {
   "cell_type": "code",
   "execution_count": null,
   "metadata": {
    "ExecuteTime": {
     "end_time": "2019-01-12T23:21:58.142614Z",
     "start_time": "2019-01-12T23:21:58.134906Z"
    },
    "slideshow": {
     "slide_type": "fragment"
    }
   },
   "outputs": [],
   "source": [
    "x = [0, 1, 2]\n",
    "z = x\n",
    "z"
   ]
  },
  {
   "cell_type": "code",
   "execution_count": null,
   "metadata": {
    "ExecuteTime": {
     "end_time": "2019-01-12T23:22:00.406149Z",
     "start_time": "2019-01-12T23:22:00.399175Z"
    },
    "slideshow": {
     "slide_type": "fragment"
    }
   },
   "outputs": [],
   "source": [
    "z = z + [3, 4, 5]\n",
    "print(\"z: \", z)\n",
    "print(\"x: \", x)"
   ]
  },
  {
   "cell_type": "code",
   "execution_count": null,
   "metadata": {
    "ExecuteTime": {
     "end_time": "2019-01-12T23:22:27.484431Z",
     "start_time": "2019-01-12T23:22:27.478078Z"
    },
    "scrolled": true,
    "slideshow": {
     "slide_type": "fragment"
    }
   },
   "outputs": [],
   "source": [
    "z = x\n",
    "z += [3, 4, 5]\n",
    "print(\"z: \", z)\n",
    "print(\"x: \", x)"
   ]
  },
  {
   "cell_type": "markdown",
   "metadata": {
    "ExecuteTime": {
     "end_time": "2018-09-24T09:04:31.596692Z",
     "start_time": "2018-09-24T09:04:31.591550Z"
    },
    "slideshow": {
     "slide_type": "slide"
    }
   },
   "source": [
    "- funzioni per le liste (1)\n",
    "\n"
   ]
  },
  {
   "cell_type": "code",
   "execution_count": null,
   "metadata": {
    "ExecuteTime": {
     "end_time": "2019-01-12T23:22:55.477588Z",
     "start_time": "2019-01-12T23:22:55.470185Z"
    },
    "slideshow": {
     "slide_type": "fragment"
    }
   },
   "outputs": [],
   "source": [
    "# inserire un elemento x nella posizione i: insert(i,x)\n",
    "lista = [1,2,3]\n",
    "lista.insert(0, 4) #inserisco 4 in testa\n",
    "lista"
   ]
  },
  {
   "cell_type": "code",
   "execution_count": null,
   "metadata": {
    "ExecuteTime": {
     "end_time": "2019-01-12T23:23:02.323415Z",
     "start_time": "2019-01-12T23:23:02.315935Z"
    },
    "slideshow": {
     "slide_type": "fragment"
    }
   },
   "outputs": [],
   "source": [
    "# prendere ed eliminare l'ultimo elemento della lista: pop()\n",
    "lista.pop()"
   ]
  },
  {
   "cell_type": "code",
   "execution_count": null,
   "metadata": {
    "ExecuteTime": {
     "end_time": "2019-01-12T23:23:06.714655Z",
     "start_time": "2019-01-12T23:23:06.710689Z"
    },
    "slideshow": {
     "slide_type": "fragment"
    }
   },
   "outputs": [],
   "source": [
    "lista"
   ]
  },
  {
   "cell_type": "markdown",
   "metadata": {
    "ExecuteTime": {
     "end_time": "2018-09-24T09:04:31.596692Z",
     "start_time": "2018-09-24T09:04:31.591550Z"
    },
    "slideshow": {
     "slide_type": "slide"
    }
   },
   "source": [
    "- funzioni per le liste (2)\n",
    "\n"
   ]
  },
  {
   "cell_type": "code",
   "execution_count": null,
   "metadata": {
    "ExecuteTime": {
     "end_time": "2019-01-12T23:23:14.210598Z",
     "start_time": "2019-01-12T23:23:14.206664Z"
    },
    "slideshow": {
     "slide_type": "fragment"
    }
   },
   "outputs": [],
   "source": [
    "# trovare l'indice di un elemento: index(el)\n",
    "lista = [1, 2, 3, 4, 5]\n",
    "lista.index(3)"
   ]
  },
  {
   "cell_type": "code",
   "execution_count": null,
   "metadata": {
    "ExecuteTime": {
     "end_time": "2019-01-12T23:23:17.631241Z",
     "start_time": "2019-01-12T23:23:17.627483Z"
    },
    "slideshow": {
     "slide_type": "fragment"
    }
   },
   "outputs": [],
   "source": [
    "# inserire in ultima posizione\n",
    "lista.append(1)\n",
    "lista"
   ]
  },
  {
   "cell_type": "code",
   "execution_count": null,
   "metadata": {
    "ExecuteTime": {
     "end_time": "2019-01-12T23:23:24.103878Z",
     "start_time": "2019-01-12T23:23:24.100036Z"
    },
    "slideshow": {
     "slide_type": "fragment"
    }
   },
   "outputs": [],
   "source": [
    "# index trova il primo elemento in caso ce ne sia più di uno uguale\n",
    "lista.index(1)"
   ]
  },
  {
   "cell_type": "markdown",
   "metadata": {
    "ExecuteTime": {
     "end_time": "2018-09-24T09:04:31.596692Z",
     "start_time": "2018-09-24T09:04:31.591550Z"
    },
    "slideshow": {
     "slide_type": "slide"
    }
   },
   "source": [
    "- funzioni per le liste (3)\n",
    "\n"
   ]
  },
  {
   "cell_type": "code",
   "execution_count": null,
   "metadata": {
    "ExecuteTime": {
     "end_time": "2019-01-13T20:59:58.857575Z",
     "start_time": "2019-01-13T20:59:58.852776Z"
    },
    "slideshow": {
     "slide_type": "fragment"
    }
   },
   "outputs": [],
   "source": [
    "lista = [1, 2, 3]\n",
    "# se l'elemento non esiste ritorna un errore\n",
    "lista.index(9)"
   ]
  },
  {
   "cell_type": "markdown",
   "metadata": {
    "ExecuteTime": {
     "end_time": "2018-09-28T17:31:04.614994Z",
     "start_time": "2018-09-28T17:31:04.610840Z"
    },
    "slideshow": {
     "slide_type": "fragment"
    }
   },
   "source": [
    "soluzione: controllo prima che l'elemento esista"
   ]
  },
  {
   "cell_type": "code",
   "execution_count": null,
   "metadata": {
    "ExecuteTime": {
     "end_time": "2019-01-13T21:01:10.036530Z",
     "start_time": "2019-01-13T21:01:10.033643Z"
    },
    "slideshow": {
     "slide_type": "fragment"
    }
   },
   "outputs": [],
   "source": [
    "if 9 in lista:\n",
    "    lista.index(9)"
   ]
  },
  {
   "cell_type": "markdown",
   "metadata": {
    "slideshow": {
     "slide_type": "slide"
    }
   },
   "source": [
    "<h3><center> if statement </center></h3>"
   ]
  },
  {
   "cell_type": "code",
   "execution_count": null,
   "metadata": {
    "ExecuteTime": {
     "end_time": "2019-01-13T21:04:44.572445Z",
     "start_time": "2019-01-13T21:04:44.567716Z"
    },
    "slideshow": {
     "slide_type": "fragment"
    }
   },
   "outputs": [],
   "source": [
    "# if <condition>:\n",
    "#    fai qualcosa\n",
    "lista = [1, 2, 3]\n",
    "\n",
    "if 9 in lista:\n",
    "    lista.index(9)\n",
    "# indentazione necessaria "
   ]
  },
  {
   "cell_type": "code",
   "execution_count": null,
   "metadata": {
    "ExecuteTime": {
     "end_time": "2019-01-13T21:04:45.803059Z",
     "start_time": "2019-01-13T21:04:45.797491Z"
    },
    "slideshow": {
     "slide_type": "fragment"
    }
   },
   "outputs": [],
   "source": [
    "# else:\n",
    "#    fai qualcos'altro\n",
    "if 9 in lista:\n",
    "    print(lista.index(9))\n",
    "else:\n",
    "    print(\"Elemento non in lista\")"
   ]
  },
  {
   "cell_type": "markdown",
   "metadata": {
    "slideshow": {
     "slide_type": "slide"
    }
   },
   "source": [
    "<h3><center> Dictionaries </center></h3>"
   ]
  },
  {
   "cell_type": "markdown",
   "metadata": {
    "slideshow": {
     "slide_type": "fragment"
    }
   },
   "source": [
    "Struttura dati a \"chiave-valore\""
   ]
  },
  {
   "cell_type": "code",
   "execution_count": 36,
   "metadata": {
    "ExecuteTime": {
     "end_time": "2019-02-26T21:09:51.177466Z",
     "start_time": "2019-02-26T21:09:51.174495Z"
    },
    "slideshow": {
     "slide_type": "fragment"
    }
   },
   "outputs": [
    {
     "data": {
      "text/plain": [
       "'Daniele'"
      ]
     },
     "execution_count": 36,
     "metadata": {},
     "output_type": "execute_result"
    }
   ],
   "source": [
    "dizionario = {'chiave': 'valore', 'nome': 'Daniele', 'cognome': 'Brambilla'}\n",
    "dizionario['nome']"
   ]
  },
  {
   "cell_type": "code",
   "execution_count": 37,
   "metadata": {
    "ExecuteTime": {
     "end_time": "2019-02-26T21:09:53.618383Z",
     "start_time": "2019-02-26T21:09:53.613010Z"
    },
    "slideshow": {
     "slide_type": "fragment"
    }
   },
   "outputs": [
    {
     "ename": "KeyError",
     "evalue": "'CodFiscale'",
     "output_type": "error",
     "traceback": [
      "\u001b[0;31m---------------------------------------------------------------------------\u001b[0m",
      "\u001b[0;31mKeyError\u001b[0m                                  Traceback (most recent call last)",
      "\u001b[0;32m<ipython-input-37-2857171a7ecf>\u001b[0m in \u001b[0;36m<module>\u001b[0;34m()\u001b[0m\n\u001b[0;32m----> 1\u001b[0;31m \u001b[0mdizionario\u001b[0m\u001b[0;34m[\u001b[0m\u001b[0;34m'CodFiscale'\u001b[0m\u001b[0;34m]\u001b[0m\u001b[0;34m\u001b[0m\u001b[0;34m\u001b[0m\u001b[0m\n\u001b[0m",
      "\u001b[0;31mKeyError\u001b[0m: 'CodFiscale'"
     ]
    }
   ],
   "source": [
    "dizionario['CodFiscale']"
   ]
  },
  {
   "cell_type": "code",
   "execution_count": 38,
   "metadata": {
    "ExecuteTime": {
     "end_time": "2019-02-26T21:09:56.368568Z",
     "start_time": "2019-02-26T21:09:56.366169Z"
    },
    "slideshow": {
     "slide_type": "fragment"
    }
   },
   "outputs": [],
   "source": [
    "dizionario.get('codFiscale')"
   ]
  },
  {
   "cell_type": "code",
   "execution_count": 39,
   "metadata": {
    "ExecuteTime": {
     "end_time": "2019-02-26T21:09:59.722459Z",
     "start_time": "2019-02-26T21:09:59.719533Z"
    },
    "slideshow": {
     "slide_type": "fragment"
    }
   },
   "outputs": [
    {
     "data": {
      "text/plain": [
       "'Brambilla'"
      ]
     },
     "execution_count": 39,
     "metadata": {},
     "output_type": "execute_result"
    }
   ],
   "source": [
    "dizionario.get(\"cognome\")"
   ]
  },
  {
   "cell_type": "markdown",
   "metadata": {
    "slideshow": {
     "slide_type": "slide"
    }
   },
   "source": [
    "tipo di dato mutabile"
   ]
  },
  {
   "cell_type": "code",
   "execution_count": 40,
   "metadata": {
    "ExecuteTime": {
     "end_time": "2019-02-26T21:10:10.795676Z",
     "start_time": "2019-02-26T21:10:10.791349Z"
    },
    "slideshow": {
     "slide_type": "fragment"
    }
   },
   "outputs": [
    {
     "data": {
      "text/plain": [
       "{'galbiatone': 666666666, 'Daniele': 1223453}"
      ]
     },
     "execution_count": 40,
     "metadata": {},
     "output_type": "execute_result"
    }
   ],
   "source": [
    "numeri_telefono = {'galbiatone': 666666666}\n",
    "numeri_telefono[\"Daniele\"] = 1223453\n",
    "numeri_telefono"
   ]
  },
  {
   "cell_type": "code",
   "execution_count": null,
   "metadata": {},
   "outputs": [],
   "source": [
    "#mancano tuple, while e for"
   ]
  }
 ],
 "metadata": {
  "celltoolbar": "Slideshow",
  "kernelspec": {
   "display_name": "Python 3",
   "language": "python",
   "name": "python3"
  },
  "language_info": {
   "codemirror_mode": {
    "name": "ipython",
    "version": 3
   },
   "file_extension": ".py",
   "mimetype": "text/x-python",
   "name": "python",
   "nbconvert_exporter": "python",
   "pygments_lexer": "ipython3",
   "version": "3.6.8"
  },
  "livereveal": {
   "autolaunch": true,
   "transition": "zoom"
  }
 },
 "nbformat": 4,
 "nbformat_minor": 2
}
