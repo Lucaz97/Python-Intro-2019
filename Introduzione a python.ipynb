{
 "cells": [
  {
   "cell_type": "markdown",
   "metadata": {
    "ExecuteTime": {
     "end_time": "2018-09-20T20:19:40.772359Z",
     "start_time": "2018-09-20T20:19:40.759391Z"
    },
    "slideshow": {
     "slide_type": "slide"
    }
   },
   "source": [
    "<h1><center>\n",
    "    Introduzione a Python\n",
    "</center></h1>\n"
   ]
  },
  {
   "cell_type": "markdown",
   "metadata": {
    "slideshow": {
     "slide_type": "fragment"
    }
   },
   "source": [
    "<h3><center>\n",
    "    \"Python is a programming language that lets you work quickly and integrate systems more effectively.\"\n",
    "</center><h3>\n",
    "<h5 align=\"right\">\n",
    "    python.org\n",
    "</h5>"
   ]
  },
  {
   "cell_type": "markdown",
   "metadata": {
    "ExecuteTime": {
     "end_time": "2018-09-20T20:29:35.757351Z",
     "start_time": "2018-09-20T20:29:35.754118Z"
    },
    "slideshow": {
     "slide_type": "slide"
    }
   },
   "source": [
    "- dinamically typed"
   ]
  },
  {
   "cell_type": "code",
   "execution_count": 1,
   "metadata": {
    "ExecuteTime": {
     "end_time": "2018-09-23T10:44:20.933155Z",
     "start_time": "2018-09-23T10:44:20.928897Z"
    },
    "slideshow": {
     "slide_type": "fragment"
    }
   },
   "outputs": [
    {
     "name": "stdout",
     "output_type": "stream",
     "text": [
      "1\n",
      "stringa\n"
     ]
    }
   ],
   "source": [
    "# nome_variabile = assegnamento\n",
    "x = 1\n",
    "print(x)\n",
    "y = \"stringa\"\n",
    "print(y)\n",
    "x = y\n",
    "y = 1"
   ]
  },
  {
   "cell_type": "markdown",
   "metadata": {
    "slideshow": {
     "slide_type": "slide"
    }
   },
   "source": [
    "<h3><center> tipo int, float e operazioni matematiche </center></h3>\n"
   ]
  },
  {
   "cell_type": "markdown",
   "metadata": {
    "ExecuteTime": {
     "end_time": "2018-09-21T17:02:27.881615Z",
     "start_time": "2018-09-21T17:02:27.875073Z"
    },
    "slideshow": {
     "slide_type": "fragment"
    }
   },
   "source": [
    "- sono tipi immutabili"
   ]
  },
  {
   "cell_type": "code",
   "execution_count": 2,
   "metadata": {
    "ExecuteTime": {
     "end_time": "2018-09-23T10:48:01.465049Z",
     "start_time": "2018-09-23T10:48:01.458215Z"
    },
    "slideshow": {
     "slide_type": "fragment"
    }
   },
   "outputs": [
    {
     "name": "stdout",
     "output_type": "stream",
     "text": [
      "x è di tipo  <class 'int'>\n",
      "y è di tipo  <class 'float'>\n",
      "z è di tipo  <class 'complex'>\n"
     ]
    }
   ],
   "source": [
    "x = 10\n",
    "y = 10.0\n",
    "z = 10 + 4j # va bene sia j che J\n",
    "print(\"x è di tipo \", type(x))\n",
    "print(\"y è di tipo \", type(y))\n",
    "print(\"z è di tipo \", type(z))"
   ]
  },
  {
   "cell_type": "code",
   "execution_count": 5,
   "metadata": {
    "ExecuteTime": {
     "end_time": "2018-09-23T10:48:42.205305Z",
     "start_time": "2018-09-23T10:48:42.199189Z"
    },
    "slideshow": {
     "slide_type": "fragment"
    }
   },
   "outputs": [
    {
     "data": {
      "text/plain": [
       "20.0"
      ]
     },
     "execution_count": 5,
     "metadata": {},
     "output_type": "execute_result"
    }
   ],
   "source": [
    "x + y"
   ]
  },
  {
   "cell_type": "markdown",
   "metadata": {
    "ExecuteTime": {
     "end_time": "2018-09-21T17:00:26.697271Z",
     "start_time": "2018-09-21T17:00:26.690951Z"
    },
    "slideshow": {
     "slide_type": "slide"
    }
   },
   "source": [
    "<h3><center> tipo string </center></h3>"
   ]
  },
  {
   "cell_type": "markdown",
   "metadata": {
    "ExecuteTime": {
     "end_time": "2018-09-21T17:02:27.881615Z",
     "start_time": "2018-09-21T17:02:27.875073Z"
    },
    "slideshow": {
     "slide_type": "fragment"
    }
   },
   "source": [
    "- sono tipi immutabili"
   ]
  },
  {
   "cell_type": "code",
   "execution_count": 7,
   "metadata": {
    "ExecuteTime": {
     "end_time": "2018-09-23T10:49:29.805019Z",
     "start_time": "2018-09-23T10:49:29.802588Z"
    },
    "slideshow": {
     "slide_type": "fragment"
    }
   },
   "outputs": [
    {
     "data": {
      "text/plain": [
       "str"
      ]
     },
     "execution_count": 7,
     "metadata": {},
     "output_type": "execute_result"
    }
   ],
   "source": [
    "string = 'stringa'\n",
    "type(string)"
   ]
  },
  {
   "cell_type": "code",
   "execution_count": 8,
   "metadata": {
    "ExecuteTime": {
     "end_time": "2018-09-23T10:49:35.167410Z",
     "start_time": "2018-09-23T10:49:35.164658Z"
    },
    "slideshow": {
     "slide_type": "fragment"
    }
   },
   "outputs": [
    {
     "data": {
      "text/plain": [
       "'\"Ok!\", risposero in coro.'"
      ]
     },
     "execution_count": 8,
     "metadata": {},
     "output_type": "execute_result"
    }
   ],
   "source": [
    "string = '\"Ok!\", risposero in coro.'\n",
    "string"
   ]
  },
  {
   "cell_type": "code",
   "execution_count": 10,
   "metadata": {
    "ExecuteTime": {
     "end_time": "2018-09-23T10:50:12.138882Z",
     "start_time": "2018-09-23T10:50:12.135832Z"
    },
    "slideshow": {
     "slide_type": "fragment"
    }
   },
   "outputs": [
    {
     "name": "stdout",
     "output_type": "stream",
     "text": [
      "\"un'aquila ci assale\", disse lui.\n"
     ]
    }
   ],
   "source": [
    "string = '\"un\\'aquila ci assale\", disse lui.'\n",
    "string\n",
    "#print(string)"
   ]
  },
  {
   "cell_type": "markdown",
   "metadata": {
    "ExecuteTime": {
     "end_time": "2018-09-21T17:02:27.881615Z",
     "start_time": "2018-09-21T17:02:27.875073Z"
    },
    "slideshow": {
     "slide_type": "slide"
    }
   },
   "source": [
    "- operaare con le stringhe (1)"
   ]
  },
  {
   "cell_type": "code",
   "execution_count": 11,
   "metadata": {
    "ExecuteTime": {
     "end_time": "2018-09-23T10:50:30.767933Z",
     "start_time": "2018-09-23T10:50:30.765492Z"
    },
    "slideshow": {
     "slide_type": "fragment"
    }
   },
   "outputs": [],
   "source": [
    "string = \"eestec\""
   ]
  },
  {
   "cell_type": "code",
   "execution_count": 12,
   "metadata": {
    "ExecuteTime": {
     "end_time": "2018-09-23T10:50:40.488746Z",
     "start_time": "2018-09-23T10:50:40.486103Z"
    },
    "slideshow": {
     "slide_type": "fragment"
    }
   },
   "outputs": [
    {
     "data": {
      "text/plain": [
       "'e'"
      ]
     },
     "execution_count": 12,
     "metadata": {},
     "output_type": "execute_result"
    }
   ],
   "source": [
    "# accedere a un carattere\n",
    "string[0]"
   ]
  },
  {
   "cell_type": "code",
   "execution_count": 13,
   "metadata": {
    "ExecuteTime": {
     "end_time": "2018-09-23T10:51:29.122233Z",
     "start_time": "2018-09-23T10:51:29.119259Z"
    },
    "slideshow": {
     "slide_type": "fragment"
    }
   },
   "outputs": [
    {
     "data": {
      "text/plain": [
       "'c'"
      ]
     },
     "execution_count": 13,
     "metadata": {},
     "output_type": "execute_result"
    }
   ],
   "source": [
    "# indici negativi inicizzano da destra:\n",
    "string[-1] "
   ]
  },
  {
   "cell_type": "code",
   "execution_count": 15,
   "metadata": {
    "ExecuteTime": {
     "end_time": "2018-09-23T10:53:02.600537Z",
     "start_time": "2018-09-23T10:53:02.598048Z"
    },
    "slideshow": {
     "slide_type": "fragment"
    }
   },
   "outputs": [
    {
     "data": {
      "text/plain": [
       "'st'"
      ]
     },
     "execution_count": 15,
     "metadata": {},
     "output_type": "execute_result"
    }
   ],
   "source": [
    "# posso selezionare anche degli intervalli:\n",
    "string[2:4] "
   ]
  },
  {
   "cell_type": "markdown",
   "metadata": {
    "ExecuteTime": {
     "end_time": "2018-09-21T17:02:27.881615Z",
     "start_time": "2018-09-21T17:02:27.875073Z"
    },
    "slideshow": {
     "slide_type": "slide"
    }
   },
   "source": [
    "- operaare con le stringhe (2)"
   ]
  },
  {
   "cell_type": "code",
   "execution_count": 16,
   "metadata": {
    "ExecuteTime": {
     "end_time": "2018-09-23T10:53:05.592700Z",
     "start_time": "2018-09-23T10:53:05.590319Z"
    },
    "slideshow": {
     "slide_type": "fragment"
    }
   },
   "outputs": [],
   "source": [
    "string = \"eestec\""
   ]
  },
  {
   "cell_type": "code",
   "execution_count": 17,
   "metadata": {
    "ExecuteTime": {
     "end_time": "2018-09-23T10:53:26.065000Z",
     "start_time": "2018-09-23T10:53:26.061931Z"
    },
    "slideshow": {
     "slide_type": "fragment"
    }
   },
   "outputs": [
    {
     "data": {
      "text/plain": [
       "'abcd'"
      ]
     },
     "execution_count": 17,
     "metadata": {},
     "output_type": "execute_result"
    }
   ],
   "source": [
    "# operatore somma -> concatenazione\n",
    "\"ab\" + \"cd\"\n",
    "#string[:3] + string[3:]"
   ]
  },
  {
   "cell_type": "code",
   "execution_count": 18,
   "metadata": {
    "ExecuteTime": {
     "end_time": "2018-09-23T10:53:26.065000Z",
     "start_time": "2018-09-23T10:53:26.061931Z"
    },
    "slideshow": {
     "slide_type": "fragment"
    }
   },
   "outputs": [
    {
     "data": {
      "text/plain": [
       "'ciao ciao ciao '"
      ]
     },
     "execution_count": 18,
     "metadata": {},
     "output_type": "execute_result"
    }
   ],
   "source": [
    "# operatore moltiplicazione per n, n intero -> ripete la stringa n volte\n",
    "\"ciao \" * 3 \n"
   ]
  },
  {
   "cell_type": "code",
   "execution_count": 19,
   "metadata": {
    "ExecuteTime": {
     "end_time": "2018-09-23T10:53:29.322863Z",
     "start_time": "2018-09-23T10:53:29.319110Z"
    }
   },
   "outputs": [
    {
     "data": {
      "text/plain": [
       "'la variabile n contiene: 2'"
      ]
     },
     "execution_count": 19,
     "metadata": {},
     "output_type": "execute_result"
    }
   ],
   "source": [
    "n = 2\n",
    "c = 'n'\n",
    "print(\"la variabile \" + c + \" contiene: \" + str(n))"
   ]
  },
  {
   "cell_type": "code",
   "execution_count": 20,
   "metadata": {
    "ExecuteTime": {
     "end_time": "2018-09-23T10:53:31.221913Z",
     "start_time": "2018-09-23T10:53:31.218766Z"
    }
   },
   "outputs": [
    {
     "name": "stdout",
     "output_type": "stream",
     "text": [
      "la variabile n contiene, 2\n"
     ]
    }
   ],
   "source": [
    "print(\"la variabile\", c, \"contiene,\", n)"
   ]
  },
  {
   "cell_type": "code",
   "execution_count": 22,
   "metadata": {
    "ExecuteTime": {
     "end_time": "2018-09-23T10:54:01.624424Z",
     "start_time": "2018-09-23T10:54:01.618230Z"
    }
   },
   "outputs": [
    {
     "name": "stdout",
     "output_type": "stream",
     "text": [
      "la variabile n contiene: 2\n"
     ]
    }
   ],
   "source": [
    "# la formattazione C per le stringhe è supportata\n",
    "print(\"la variabile %c contiene: %d\" % (c, n))"
   ]
  }
 ],
 "metadata": {
  "celltoolbar": "Slideshow",
  "kernelspec": {
   "display_name": "Python 3",
   "language": "python",
   "name": "python3"
  },
  "language_info": {
   "codemirror_mode": {
    "name": "ipython",
    "version": 3
   },
   "file_extension": ".py",
   "mimetype": "text/x-python",
   "name": "python",
   "nbconvert_exporter": "python",
   "pygments_lexer": "ipython3",
   "version": "3.6.6"
  }
 },
 "nbformat": 4,
 "nbformat_minor": 2
}
