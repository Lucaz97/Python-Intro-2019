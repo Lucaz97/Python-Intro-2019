{
 "cells": [
  {
   "cell_type": "markdown",
   "metadata": {
    "ExecuteTime": {
     "end_time": "2018-09-20T20:19:40.772359Z",
     "start_time": "2018-09-20T20:19:40.759391Z"
    },
    "slideshow": {
     "slide_type": "slide"
    }
   },
   "source": [
    "<h1><center>\n",
    "    Introduzione a Python\n",
    "</center></h1>\n"
   ]
  },
  {
   "cell_type": "markdown",
   "metadata": {
    "slideshow": {
     "slide_type": "fragment"
    }
   },
   "source": [
    "<h3><center>\n",
    "    \"Python is a programming language that lets you work quickly and integrate systems more effectively.\"\n",
    "</center><h3>\n",
    "<h5 align=\"right\">\n",
    "    python.org\n",
    "</h5>"
   ]
  },
  {
   "cell_type": "markdown",
   "metadata": {
    "ExecuteTime": {
     "end_time": "2018-09-20T20:29:35.757351Z",
     "start_time": "2018-09-20T20:29:35.754118Z"
    },
    "slideshow": {
     "slide_type": "slide"
    }
   },
   "source": [
    "- dinamically typed"
   ]
  },
  {
   "cell_type": "code",
   "execution_count": 1,
   "metadata": {
    "ExecuteTime": {
     "end_time": "2018-10-06T16:18:39.288059Z",
     "start_time": "2018-10-06T16:18:39.279736Z"
    },
    "slideshow": {
     "slide_type": "fragment"
    }
   },
   "outputs": [
    {
     "name": "stdout",
     "output_type": "stream",
     "text": [
      "x:  1\n",
      "y:  stringa\n",
      "x:  stringa\n",
      "y:  1\n"
     ]
    }
   ],
   "source": [
    "# nome_variabile = assegnamento\n",
    "x = 1\n",
    "print(\"x: \", x)\n",
    "y = \"stringa\"\n",
    "print(\"y: \", y)\n",
    "x = y\n",
    "print(\"x: \", x)\n",
    "y = 1\n",
    "print(\"y: \", y)"
   ]
  },
  {
   "cell_type": "markdown",
   "metadata": {
    "slideshow": {
     "slide_type": "slide"
    }
   },
   "source": [
    "<h3><center> tipo int, float e operazioni matematiche </center></h3>\n"
   ]
  },
  {
   "cell_type": "markdown",
   "metadata": {
    "ExecuteTime": {
     "end_time": "2018-09-21T17:02:27.881615Z",
     "start_time": "2018-09-21T17:02:27.875073Z"
    },
    "slideshow": {
     "slide_type": "fragment"
    }
   },
   "source": [
    "- sono tipi immutabili"
   ]
  },
  {
   "cell_type": "code",
   "execution_count": 2,
   "metadata": {
    "ExecuteTime": {
     "end_time": "2018-10-06T16:19:57.325377Z",
     "start_time": "2018-10-06T16:19:57.319297Z"
    },
    "slideshow": {
     "slide_type": "fragment"
    }
   },
   "outputs": [
    {
     "name": "stdout",
     "output_type": "stream",
     "text": [
      "x è di tipo  <class 'int'>\n",
      "y è di tipo  <class 'float'>\n",
      "z è di tipo  <class 'complex'>\n"
     ]
    }
   ],
   "source": [
    "x = 10\n",
    "y = 10.0\n",
    "z = 10 + 4j # va bene sia j che J\n",
    "print(\"x è di tipo \", type(x))\n",
    "print(\"y è di tipo \", type(y))\n",
    "print(\"z è di tipo \", type(z))"
   ]
  },
  {
   "cell_type": "code",
   "execution_count": 4,
   "metadata": {
    "ExecuteTime": {
     "end_time": "2018-10-06T16:21:25.423985Z",
     "start_time": "2018-10-06T16:21:25.418105Z"
    },
    "slideshow": {
     "slide_type": "fragment"
    }
   },
   "outputs": [
    {
     "data": {
      "text/plain": [
       "7"
      ]
     },
     "execution_count": 4,
     "metadata": {},
     "output_type": "execute_result"
    }
   ],
   "source": [
    "2+5"
   ]
  },
  {
   "cell_type": "markdown",
   "metadata": {
    "ExecuteTime": {
     "end_time": "2018-09-21T17:00:26.697271Z",
     "start_time": "2018-09-21T17:00:26.690951Z"
    },
    "slideshow": {
     "slide_type": "slide"
    }
   },
   "source": [
    "<h3><center> tipo string </center></h3>"
   ]
  },
  {
   "cell_type": "markdown",
   "metadata": {
    "ExecuteTime": {
     "end_time": "2018-09-21T17:02:27.881615Z",
     "start_time": "2018-09-21T17:02:27.875073Z"
    },
    "slideshow": {
     "slide_type": "fragment"
    }
   },
   "source": [
    "- sono tipi immutabili"
   ]
  },
  {
   "cell_type": "code",
   "execution_count": 5,
   "metadata": {
    "ExecuteTime": {
     "end_time": "2018-10-06T16:22:14.271837Z",
     "start_time": "2018-10-06T16:22:14.264803Z"
    },
    "slideshow": {
     "slide_type": "fragment"
    }
   },
   "outputs": [
    {
     "data": {
      "text/plain": [
       "str"
      ]
     },
     "execution_count": 5,
     "metadata": {},
     "output_type": "execute_result"
    }
   ],
   "source": [
    "string = 'stringa'\n",
    "type(string)"
   ]
  },
  {
   "cell_type": "code",
   "execution_count": 6,
   "metadata": {
    "ExecuteTime": {
     "end_time": "2018-10-06T16:22:20.335507Z",
     "start_time": "2018-10-06T16:22:20.329526Z"
    },
    "slideshow": {
     "slide_type": "fragment"
    }
   },
   "outputs": [
    {
     "data": {
      "text/plain": [
       "'\"Ok!\", risposero in coro.'"
      ]
     },
     "execution_count": 6,
     "metadata": {},
     "output_type": "execute_result"
    }
   ],
   "source": [
    "string = '\"Ok!\", risposero in coro.'\n",
    "string"
   ]
  },
  {
   "cell_type": "code",
   "execution_count": 7,
   "metadata": {
    "ExecuteTime": {
     "end_time": "2018-10-06T16:22:48.712854Z",
     "start_time": "2018-10-06T16:22:48.710080Z"
    },
    "slideshow": {
     "slide_type": "fragment"
    }
   },
   "outputs": [
    {
     "data": {
      "text/plain": [
       "'\"un\\'aquila ci assale\", disse lui.'"
      ]
     },
     "execution_count": 7,
     "metadata": {},
     "output_type": "execute_result"
    }
   ],
   "source": [
    "string = '\"un\\'aquila ci assale\", disse lui.'\n",
    "string\n",
    "#print(string)"
   ]
  },
  {
   "cell_type": "markdown",
   "metadata": {
    "ExecuteTime": {
     "end_time": "2018-09-21T17:02:27.881615Z",
     "start_time": "2018-09-21T17:02:27.875073Z"
    },
    "slideshow": {
     "slide_type": "slide"
    }
   },
   "source": [
    "- operare con le stringhe (1)"
   ]
  },
  {
   "cell_type": "code",
   "execution_count": 8,
   "metadata": {
    "ExecuteTime": {
     "end_time": "2018-10-06T16:25:10.199660Z",
     "start_time": "2018-10-06T16:25:10.197763Z"
    },
    "slideshow": {
     "slide_type": "fragment"
    }
   },
   "outputs": [],
   "source": [
    "string = \"eestec\""
   ]
  },
  {
   "cell_type": "code",
   "execution_count": 9,
   "metadata": {
    "ExecuteTime": {
     "end_time": "2018-10-06T16:25:12.068777Z",
     "start_time": "2018-10-06T16:25:12.066065Z"
    },
    "slideshow": {
     "slide_type": "fragment"
    }
   },
   "outputs": [
    {
     "data": {
      "text/plain": [
       "'e'"
      ]
     },
     "execution_count": 9,
     "metadata": {},
     "output_type": "execute_result"
    }
   ],
   "source": [
    "# accedere a un carattere\n",
    "string[0]"
   ]
  },
  {
   "cell_type": "code",
   "execution_count": 10,
   "metadata": {
    "ExecuteTime": {
     "end_time": "2018-10-06T16:25:15.845852Z",
     "start_time": "2018-10-06T16:25:15.842629Z"
    },
    "slideshow": {
     "slide_type": "fragment"
    }
   },
   "outputs": [
    {
     "data": {
      "text/plain": [
       "'c'"
      ]
     },
     "execution_count": 10,
     "metadata": {},
     "output_type": "execute_result"
    }
   ],
   "source": [
    "# indici negativi inicizzano da destra:\n",
    "string[-1] "
   ]
  },
  {
   "cell_type": "code",
   "execution_count": 11,
   "metadata": {
    "ExecuteTime": {
     "end_time": "2018-10-06T16:25:19.704146Z",
     "start_time": "2018-10-06T16:25:19.701421Z"
    },
    "slideshow": {
     "slide_type": "fragment"
    }
   },
   "outputs": [
    {
     "data": {
      "text/plain": [
       "'st'"
      ]
     },
     "execution_count": 11,
     "metadata": {},
     "output_type": "execute_result"
    }
   ],
   "source": [
    "# posso selezionare anche degli intervalli:\n",
    "string[2:4] "
   ]
  },
  {
   "cell_type": "markdown",
   "metadata": {
    "ExecuteTime": {
     "end_time": "2018-09-21T17:02:27.881615Z",
     "start_time": "2018-09-21T17:02:27.875073Z"
    },
    "slideshow": {
     "slide_type": "slide"
    }
   },
   "source": [
    "- operare con le stringhe (2)"
   ]
  },
  {
   "cell_type": "code",
   "execution_count": 12,
   "metadata": {
    "ExecuteTime": {
     "end_time": "2018-10-06T16:26:07.137607Z",
     "start_time": "2018-10-06T16:26:07.135776Z"
    },
    "slideshow": {
     "slide_type": "fragment"
    }
   },
   "outputs": [],
   "source": [
    "string = \"eestec\""
   ]
  },
  {
   "cell_type": "code",
   "execution_count": 17,
   "metadata": {
    "ExecuteTime": {
     "end_time": "2018-10-06T16:27:07.968127Z",
     "start_time": "2018-10-06T16:27:07.965070Z"
    },
    "slideshow": {
     "slide_type": "fragment"
    }
   },
   "outputs": [
    {
     "data": {
      "text/plain": [
       "'abcd'"
      ]
     },
     "execution_count": 17,
     "metadata": {},
     "output_type": "execute_result"
    }
   ],
   "source": [
    "# operatore somma -> concatenazione\n",
    "\"ab\" + \"cd\"\n",
    "#string[:3] + string[3:]"
   ]
  },
  {
   "cell_type": "code",
   "execution_count": 18,
   "metadata": {
    "ExecuteTime": {
     "end_time": "2018-10-06T16:27:10.258855Z",
     "start_time": "2018-10-06T16:27:10.256057Z"
    },
    "slideshow": {
     "slide_type": "fragment"
    }
   },
   "outputs": [
    {
     "data": {
      "text/plain": [
       "'ciao ciao ciao '"
      ]
     },
     "execution_count": 18,
     "metadata": {},
     "output_type": "execute_result"
    }
   ],
   "source": [
    "# operatore moltiplicazione per n, n intero -> ripete la stringa n volte\n",
    "\"ciao \" * 3 \n"
   ]
  },
  {
   "cell_type": "markdown",
   "metadata": {
    "slideshow": {
     "slide_type": "slide"
    }
   },
   "source": [
    "- stampare stringhe "
   ]
  },
  {
   "cell_type": "code",
   "execution_count": null,
   "metadata": {
    "ExecuteTime": {
     "end_time": "2018-09-23T10:53:29.322863Z",
     "start_time": "2018-09-23T10:53:29.319110Z"
    },
    "slideshow": {
     "slide_type": "fragment"
    }
   },
   "outputs": [],
   "source": [
    "n = 2\n",
    "c = 'n'\n",
    "print(\"la variabile \" + c + \" contiene: \" + str(n))"
   ]
  },
  {
   "cell_type": "code",
   "execution_count": null,
   "metadata": {
    "ExecuteTime": {
     "end_time": "2018-09-23T10:53:31.221913Z",
     "start_time": "2018-09-23T10:53:31.218766Z"
    },
    "slideshow": {
     "slide_type": "fragment"
    }
   },
   "outputs": [],
   "source": [
    "print(\"la variabile\", c, \"contiene,\", n)"
   ]
  },
  {
   "cell_type": "code",
   "execution_count": null,
   "metadata": {
    "ExecuteTime": {
     "end_time": "2018-09-23T10:54:01.624424Z",
     "start_time": "2018-09-23T10:54:01.618230Z"
    },
    "slideshow": {
     "slide_type": "fragment"
    }
   },
   "outputs": [],
   "source": [
    "# la formattazione C per le stringhe è supportata\n",
    "print(\"la variabile %c contiene: %d\" % (c, n))"
   ]
  },
  {
   "cell_type": "markdown",
   "metadata": {
    "slideshow": {
     "slide_type": "slide"
    }
   },
   "source": [
    "<h3><center> liste </center></h3>"
   ]
  },
  {
   "cell_type": "code",
   "execution_count": null,
   "metadata": {
    "ExecuteTime": {
     "end_time": "2018-09-26T11:38:18.059580Z",
     "start_time": "2018-09-26T11:38:18.054157Z"
    },
    "slideshow": {
     "slide_type": "fragment"
    }
   },
   "outputs": [],
   "source": [
    "# si inizializzano con [elemento1, elemento2, ..., elementoN]\n",
    "x = [0, 1, 2, 3]\n",
    "type(x)"
   ]
  },
  {
   "cell_type": "code",
   "execution_count": null,
   "metadata": {
    "ExecuteTime": {
     "end_time": "2018-09-26T11:38:19.310780Z",
     "start_time": "2018-09-26T11:38:19.304830Z"
    },
    "slideshow": {
     "slide_type": "fragment"
    }
   },
   "outputs": [],
   "source": [
    "# si indicizzano con [n]\n",
    "x[2]"
   ]
  },
  {
   "cell_type": "code",
   "execution_count": null,
   "metadata": {
    "ExecuteTime": {
     "end_time": "2018-09-26T11:40:48.774831Z",
     "start_time": "2018-09-26T11:40:48.768660Z"
    },
    "slideshow": {
     "slide_type": "fragment"
    }
   },
   "outputs": [],
   "source": [
    "# selezionare una sottolista: [n:m]\n",
    "sublist = x[1:3]\n",
    "sublist"
   ]
  },
  {
   "cell_type": "markdown",
   "metadata": {
    "slideshow": {
     "slide_type": "slide"
    }
   },
   "source": [
    "- sono mutabili"
   ]
  },
  {
   "cell_type": "code",
   "execution_count": null,
   "metadata": {
    "ExecuteTime": {
     "end_time": "2018-09-26T11:38:22.802472Z",
     "start_time": "2018-09-26T11:38:22.794981Z"
    },
    "slideshow": {
     "slide_type": "fragment"
    }
   },
   "outputs": [],
   "source": [
    "x[2] = 4\n",
    "x"
   ]
  },
  {
   "cell_type": "markdown",
   "metadata": {
    "slideshow": {
     "slide_type": "slide"
    }
   },
   "source": [
    "<h3><center>ATTENZIONE!</center></h3>"
   ]
  },
  {
   "cell_type": "code",
   "execution_count": null,
   "metadata": {
    "ExecuteTime": {
     "end_time": "2018-09-26T11:38:26.128752Z",
     "start_time": "2018-09-26T11:38:26.120338Z"
    },
    "slideshow": {
     "slide_type": "fragment"
    }
   },
   "outputs": [],
   "source": [
    "x = [0, 1, 2, 3]\n",
    "y = x\n",
    "print(\"x: \", x)\n",
    "print(\"y: \", y)"
   ]
  },
  {
   "cell_type": "code",
   "execution_count": null,
   "metadata": {
    "ExecuteTime": {
     "end_time": "2018-09-26T11:38:27.277994Z",
     "start_time": "2018-09-26T11:38:27.272618Z"
    },
    "slideshow": {
     "slide_type": "fragment"
    }
   },
   "outputs": [],
   "source": [
    "y[2] = 10\n",
    "print(y)"
   ]
  },
  {
   "cell_type": "code",
   "execution_count": null,
   "metadata": {
    "ExecuteTime": {
     "end_time": "2018-09-26T11:38:28.402424Z",
     "start_time": "2018-09-26T11:38:28.397076Z"
    },
    "slideshow": {
     "slide_type": "fragment"
    }
   },
   "outputs": [],
   "source": [
    "print(x)"
   ]
  },
  {
   "cell_type": "markdown",
   "metadata": {
    "slideshow": {
     "slide_type": "slide"
    }
   },
   "source": [
    "- liste di tipo ETEROGENEO"
   ]
  },
  {
   "cell_type": "code",
   "execution_count": null,
   "metadata": {
    "ExecuteTime": {
     "end_time": "2018-09-26T11:38:42.058640Z",
     "start_time": "2018-09-26T11:38:42.051309Z"
    },
    "slideshow": {
     "slide_type": "fragment"
    }
   },
   "outputs": [],
   "source": [
    "lista = [\"ciao\", 3 , [0, 1, 2], \"cammello\", ['n', 'o','n', ['fate', \"questo\", \"a\", \"casa\"]], 4+6j, 3.09]\n",
    "lista"
   ]
  },
  {
   "cell_type": "markdown",
   "metadata": {
    "slideshow": {
     "slide_type": "fragment"
    }
   },
   "source": [
    "<h4><center>solo perchè si può fare non vuol dire che sia una buona idea farlo</center></h4>"
   ]
  },
  {
   "cell_type": "code",
   "execution_count": null,
   "metadata": {
    "ExecuteTime": {
     "end_time": "2018-09-26T11:38:50.582598Z",
     "start_time": "2018-09-26T11:38:50.576722Z"
    },
    "slideshow": {
     "slide_type": "fragment"
    }
   },
   "outputs": [],
   "source": [
    "lista[4][3][1][3]"
   ]
  },
  {
   "cell_type": "markdown",
   "metadata": {
    "ExecuteTime": {
     "end_time": "2018-09-24T08:43:21.169227Z",
     "start_time": "2018-09-24T08:43:21.158877Z"
    },
    "slideshow": {
     "slide_type": "slide"
    }
   },
   "source": [
    "- operare con le liste"
   ]
  },
  {
   "cell_type": "code",
   "execution_count": null,
   "metadata": {
    "ExecuteTime": {
     "end_time": "2018-09-26T11:38:59.658652Z",
     "start_time": "2018-09-26T11:38:59.649816Z"
    },
    "slideshow": {
     "slide_type": "fragment"
    }
   },
   "outputs": [],
   "source": [
    "# operatore somma --> concatenzazione\n",
    "x = [0, 1, 2]\n",
    "y = [3, 4, 5]\n",
    "x + y"
   ]
  },
  {
   "cell_type": "code",
   "execution_count": null,
   "metadata": {
    "ExecuteTime": {
     "end_time": "2018-09-24T09:03:06.982505Z",
     "start_time": "2018-09-24T09:03:06.974809Z"
    },
    "slideshow": {
     "slide_type": "fragment"
    }
   },
   "outputs": [],
   "source": [
    "# operatore moltiplicazione per n --> ripete lista n volte\n",
    "x = [1,2,3]*3\n",
    "x"
   ]
  },
  {
   "cell_type": "markdown",
   "metadata": {
    "slideshow": {
     "slide_type": "slide"
    }
   },
   "source": [
    "<h3><center>ATTENZIONE!</center></h3>"
   ]
  },
  {
   "cell_type": "code",
   "execution_count": null,
   "metadata": {
    "ExecuteTime": {
     "end_time": "2018-09-24T09:03:24.474177Z",
     "start_time": "2018-09-24T09:03:24.465713Z"
    },
    "slideshow": {
     "slide_type": "fragment"
    }
   },
   "outputs": [],
   "source": [
    "x = [0, 1, 2]\n",
    "z = x\n",
    "z"
   ]
  },
  {
   "cell_type": "code",
   "execution_count": null,
   "metadata": {
    "ExecuteTime": {
     "end_time": "2018-09-24T09:03:55.599468Z",
     "start_time": "2018-09-24T09:03:55.592419Z"
    },
    "slideshow": {
     "slide_type": "fragment"
    }
   },
   "outputs": [],
   "source": [
    "z = z + [3, 4, 5]\n",
    "print(\"z: \", z)\n",
    "print(\"x: \", x)"
   ]
  },
  {
   "cell_type": "code",
   "execution_count": null,
   "metadata": {
    "ExecuteTime": {
     "end_time": "2018-09-24T09:04:04.150537Z",
     "start_time": "2018-09-24T09:04:04.144234Z"
    },
    "scrolled": true,
    "slideshow": {
     "slide_type": "fragment"
    }
   },
   "outputs": [],
   "source": [
    "z = x\n",
    "z += [3, 4, 5]\n",
    "print(\"z: \", z)\n",
    "print(\"x: \", x)"
   ]
  },
  {
   "cell_type": "markdown",
   "metadata": {
    "ExecuteTime": {
     "end_time": "2018-09-24T09:04:31.596692Z",
     "start_time": "2018-09-24T09:04:31.591550Z"
    },
    "slideshow": {
     "slide_type": "slide"
    }
   },
   "source": [
    "- funzioni per le liste (1)\n",
    "\n"
   ]
  },
  {
   "cell_type": "code",
   "execution_count": null,
   "metadata": {
    "ExecuteTime": {
     "end_time": "2018-09-26T11:42:56.551228Z",
     "start_time": "2018-09-26T11:42:56.544694Z"
    },
    "slideshow": {
     "slide_type": "fragment"
    }
   },
   "outputs": [],
   "source": [
    "# inserire un elemento x nella posizione i: insert(i,x)\n",
    "lista = [1,2,3]\n",
    "lista.insert(0, 4) #inserisco 4 in testa\n",
    "lista"
   ]
  },
  {
   "cell_type": "code",
   "execution_count": null,
   "metadata": {
    "ExecuteTime": {
     "end_time": "2018-09-26T11:42:57.810189Z",
     "start_time": "2018-09-26T11:42:57.803092Z"
    },
    "slideshow": {
     "slide_type": "fragment"
    }
   },
   "outputs": [],
   "source": [
    "# prendere ed eliminare l'ultimo elemento della lista: pop()\n",
    "lista.pop()"
   ]
  },
  {
   "cell_type": "code",
   "execution_count": null,
   "metadata": {
    "ExecuteTime": {
     "end_time": "2018-09-26T11:42:58.987089Z",
     "start_time": "2018-09-26T11:42:58.981474Z"
    },
    "slideshow": {
     "slide_type": "fragment"
    }
   },
   "outputs": [],
   "source": [
    "lista"
   ]
  },
  {
   "cell_type": "markdown",
   "metadata": {
    "ExecuteTime": {
     "end_time": "2018-09-24T09:04:31.596692Z",
     "start_time": "2018-09-24T09:04:31.591550Z"
    },
    "slideshow": {
     "slide_type": "slide"
    }
   },
   "source": [
    "- funzioni per le liste (2)\n",
    "\n"
   ]
  },
  {
   "cell_type": "code",
   "execution_count": null,
   "metadata": {
    "ExecuteTime": {
     "end_time": "2018-09-28T17:30:38.168567Z",
     "start_time": "2018-09-28T17:30:38.154887Z"
    },
    "slideshow": {
     "slide_type": "fragment"
    }
   },
   "outputs": [],
   "source": [
    "# trovare l'indice di un elemento: index(el)\n",
    "lista = [1, 2, 3, 4, 5]\n",
    "lista.index(3)"
   ]
  },
  {
   "cell_type": "code",
   "execution_count": null,
   "metadata": {
    "ExecuteTime": {
     "end_time": "2018-09-26T11:50:21.064821Z",
     "start_time": "2018-09-26T11:50:21.059320Z"
    },
    "slideshow": {
     "slide_type": "fragment"
    }
   },
   "outputs": [],
   "source": [
    "# inserire in ultima posizione\n",
    "lista.append(1)\n",
    "lista"
   ]
  },
  {
   "cell_type": "code",
   "execution_count": null,
   "metadata": {
    "ExecuteTime": {
     "end_time": "2018-09-26T11:50:23.994781Z",
     "start_time": "2018-09-26T11:50:23.989740Z"
    },
    "slideshow": {
     "slide_type": "fragment"
    }
   },
   "outputs": [],
   "source": [
    "# index trova il primo elemento in caso ce ne sia più di uno uguale\n",
    "lista.index(1)"
   ]
  },
  {
   "cell_type": "markdown",
   "metadata": {
    "ExecuteTime": {
     "end_time": "2018-09-24T09:04:31.596692Z",
     "start_time": "2018-09-24T09:04:31.591550Z"
    },
    "slideshow": {
     "slide_type": "slide"
    }
   },
   "source": [
    "- funzioni per le liste (3)\n",
    "\n"
   ]
  },
  {
   "cell_type": "code",
   "execution_count": null,
   "metadata": {
    "ExecuteTime": {
     "end_time": "2018-09-28T17:32:17.391855Z",
     "start_time": "2018-09-28T17:32:17.382447Z"
    },
    "slideshow": {
     "slide_type": "fragment"
    }
   },
   "outputs": [],
   "source": [
    "lista = [1, 2, 3]\n",
    "# se l'elemento non esiste ritorna un errore\n",
    "lista.index(9)"
   ]
  },
  {
   "cell_type": "markdown",
   "metadata": {
    "ExecuteTime": {
     "end_time": "2018-09-28T17:31:04.614994Z",
     "start_time": "2018-09-28T17:31:04.610840Z"
    },
    "slideshow": {
     "slide_type": "fragment"
    }
   },
   "source": [
    "soluzione: controllo prima che l'elemento esista"
   ]
  },
  {
   "cell_type": "code",
   "execution_count": null,
   "metadata": {
    "ExecuteTime": {
     "end_time": "2018-09-28T17:32:23.638811Z",
     "start_time": "2018-09-28T17:32:23.634818Z"
    },
    "slideshow": {
     "slide_type": "fragment"
    }
   },
   "outputs": [],
   "source": [
    "if 9 in lista:\n",
    "    lista.index(9)"
   ]
  }
 ],
 "metadata": {
  "celltoolbar": "Slideshow",
  "kernelspec": {
   "display_name": "Python 3",
   "language": "python",
   "name": "python3"
  },
  "language_info": {
   "codemirror_mode": {
    "name": "ipython",
    "version": 3
   },
   "file_extension": ".py",
   "mimetype": "text/x-python",
   "name": "python",
   "nbconvert_exporter": "python",
   "pygments_lexer": "ipython3",
   "version": "3.6.6"
  }
 },
 "nbformat": 4,
 "nbformat_minor": 2
}
