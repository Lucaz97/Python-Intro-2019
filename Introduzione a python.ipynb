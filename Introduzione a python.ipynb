{
 "cells": [
  {
   "cell_type": "markdown",
   "metadata": {
    "ExecuteTime": {
     "end_time": "2018-09-20T20:19:40.772359Z",
     "start_time": "2018-09-20T20:19:40.759391Z"
    },
    "slideshow": {
     "slide_type": "slide"
    }
   },
   "source": [
    "<h1><center>\n",
    "    Introduzione a Python\n",
    "</center></h1>\n"
   ]
  },
  {
   "cell_type": "markdown",
   "metadata": {
    "slideshow": {
     "slide_type": "fragment"
    }
   },
   "source": [
    "<h3><center>\n",
    "    \"Python is a programming language that lets you work quickly and integrate systems more effectively.\"\n",
    "</center><h3>\n",
    "<h5 align=\"right\">\n",
    "    python.org\n",
    "</h5>"
   ]
  },
  {
   "cell_type": "markdown",
   "metadata": {
    "ExecuteTime": {
     "end_time": "2018-09-20T20:29:35.757351Z",
     "start_time": "2018-09-20T20:29:35.754118Z"
    },
    "slideshow": {
     "slide_type": "slide"
    }
   },
   "source": [
    "- dinamically typed"
   ]
  },
  {
   "cell_type": "code",
   "execution_count": 1,
   "metadata": {
    "ExecuteTime": {
     "end_time": "2018-09-23T21:26:46.024612Z",
     "start_time": "2018-09-23T21:26:46.016659Z"
    },
    "slideshow": {
     "slide_type": "fragment"
    }
   },
   "outputs": [
    {
     "name": "stdout",
     "output_type": "stream",
     "text": [
      "1\n",
      "stringa\n"
     ]
    }
   ],
   "source": [
    "# nome_variabile = assegnamento\n",
    "x = 1\n",
    "print(x)\n",
    "y = \"stringa\"\n",
    "print(y)\n",
    "x = y\n",
    "y = 1"
   ]
  },
  {
   "cell_type": "markdown",
   "metadata": {
    "slideshow": {
     "slide_type": "slide"
    }
   },
   "source": [
    "<h3><center> tipo int, float e operazioni matematiche </center></h3>\n"
   ]
  },
  {
   "cell_type": "markdown",
   "metadata": {
    "ExecuteTime": {
     "end_time": "2018-09-21T17:02:27.881615Z",
     "start_time": "2018-09-21T17:02:27.875073Z"
    },
    "slideshow": {
     "slide_type": "fragment"
    }
   },
   "source": [
    "- sono tipi immutabili"
   ]
  },
  {
   "cell_type": "code",
   "execution_count": null,
   "metadata": {
    "ExecuteTime": {
     "end_time": "2018-09-23T10:48:01.465049Z",
     "start_time": "2018-09-23T10:48:01.458215Z"
    },
    "slideshow": {
     "slide_type": "fragment"
    }
   },
   "outputs": [],
   "source": [
    "x = 10\n",
    "y = 10.0\n",
    "z = 10 + 4j # va bene sia j che J\n",
    "print(\"x è di tipo \", type(x))\n",
    "print(\"y è di tipo \", type(y))\n",
    "print(\"z è di tipo \", type(z))"
   ]
  },
  {
   "cell_type": "code",
   "execution_count": null,
   "metadata": {
    "ExecuteTime": {
     "end_time": "2018-09-23T10:48:42.205305Z",
     "start_time": "2018-09-23T10:48:42.199189Z"
    },
    "slideshow": {
     "slide_type": "fragment"
    }
   },
   "outputs": [],
   "source": [
    "x + y"
   ]
  },
  {
   "cell_type": "markdown",
   "metadata": {
    "ExecuteTime": {
     "end_time": "2018-09-21T17:00:26.697271Z",
     "start_time": "2018-09-21T17:00:26.690951Z"
    },
    "slideshow": {
     "slide_type": "slide"
    }
   },
   "source": [
    "<h3><center> tipo string </center></h3>"
   ]
  },
  {
   "cell_type": "markdown",
   "metadata": {
    "ExecuteTime": {
     "end_time": "2018-09-21T17:02:27.881615Z",
     "start_time": "2018-09-21T17:02:27.875073Z"
    },
    "slideshow": {
     "slide_type": "fragment"
    }
   },
   "source": [
    "- sono tipi immutabili"
   ]
  },
  {
   "cell_type": "code",
   "execution_count": null,
   "metadata": {
    "ExecuteTime": {
     "end_time": "2018-09-23T10:49:29.805019Z",
     "start_time": "2018-09-23T10:49:29.802588Z"
    },
    "slideshow": {
     "slide_type": "fragment"
    }
   },
   "outputs": [],
   "source": [
    "string = 'stringa'\n",
    "type(string)"
   ]
  },
  {
   "cell_type": "code",
   "execution_count": null,
   "metadata": {
    "ExecuteTime": {
     "end_time": "2018-09-23T10:49:35.167410Z",
     "start_time": "2018-09-23T10:49:35.164658Z"
    },
    "slideshow": {
     "slide_type": "fragment"
    }
   },
   "outputs": [],
   "source": [
    "string = '\"Ok!\", risposero in coro.'\n",
    "string"
   ]
  },
  {
   "cell_type": "code",
   "execution_count": null,
   "metadata": {
    "ExecuteTime": {
     "end_time": "2018-09-23T10:50:12.138882Z",
     "start_time": "2018-09-23T10:50:12.135832Z"
    },
    "slideshow": {
     "slide_type": "fragment"
    }
   },
   "outputs": [],
   "source": [
    "string = '\"un\\'aquila ci assale\", disse lui.'\n",
    "string\n",
    "#print(string)"
   ]
  },
  {
   "cell_type": "markdown",
   "metadata": {
    "ExecuteTime": {
     "end_time": "2018-09-21T17:02:27.881615Z",
     "start_time": "2018-09-21T17:02:27.875073Z"
    },
    "slideshow": {
     "slide_type": "slide"
    }
   },
   "source": [
    "- operare con le stringhe (1)"
   ]
  },
  {
   "cell_type": "code",
   "execution_count": null,
   "metadata": {
    "ExecuteTime": {
     "end_time": "2018-09-23T10:50:30.767933Z",
     "start_time": "2018-09-23T10:50:30.765492Z"
    },
    "slideshow": {
     "slide_type": "fragment"
    }
   },
   "outputs": [],
   "source": [
    "string = \"eestec\""
   ]
  },
  {
   "cell_type": "code",
   "execution_count": null,
   "metadata": {
    "ExecuteTime": {
     "end_time": "2018-09-23T10:50:40.488746Z",
     "start_time": "2018-09-23T10:50:40.486103Z"
    },
    "slideshow": {
     "slide_type": "fragment"
    }
   },
   "outputs": [],
   "source": [
    "# accedere a un carattere\n",
    "string[0]"
   ]
  },
  {
   "cell_type": "code",
   "execution_count": null,
   "metadata": {
    "ExecuteTime": {
     "end_time": "2018-09-23T10:51:29.122233Z",
     "start_time": "2018-09-23T10:51:29.119259Z"
    },
    "slideshow": {
     "slide_type": "fragment"
    }
   },
   "outputs": [],
   "source": [
    "# indici negativi inicizzano da destra:\n",
    "string[-1] "
   ]
  },
  {
   "cell_type": "code",
   "execution_count": null,
   "metadata": {
    "ExecuteTime": {
     "end_time": "2018-09-23T10:53:02.600537Z",
     "start_time": "2018-09-23T10:53:02.598048Z"
    },
    "slideshow": {
     "slide_type": "fragment"
    }
   },
   "outputs": [],
   "source": [
    "# posso selezionare anche degli intervalli:\n",
    "string[2:4] "
   ]
  },
  {
   "cell_type": "markdown",
   "metadata": {
    "ExecuteTime": {
     "end_time": "2018-09-21T17:02:27.881615Z",
     "start_time": "2018-09-21T17:02:27.875073Z"
    },
    "slideshow": {
     "slide_type": "slide"
    }
   },
   "source": [
    "- operare con le stringhe (2)"
   ]
  },
  {
   "cell_type": "code",
   "execution_count": null,
   "metadata": {
    "ExecuteTime": {
     "end_time": "2018-09-23T10:53:05.592700Z",
     "start_time": "2018-09-23T10:53:05.590319Z"
    },
    "slideshow": {
     "slide_type": "fragment"
    }
   },
   "outputs": [],
   "source": [
    "string = \"eestec\""
   ]
  },
  {
   "cell_type": "code",
   "execution_count": null,
   "metadata": {
    "ExecuteTime": {
     "end_time": "2018-09-23T10:53:26.065000Z",
     "start_time": "2018-09-23T10:53:26.061931Z"
    },
    "slideshow": {
     "slide_type": "fragment"
    }
   },
   "outputs": [],
   "source": [
    "# operatore somma -> concatenazione\n",
    "\"ab\" + \"cd\"\n",
    "#string[:3] + string[3:]"
   ]
  },
  {
   "cell_type": "code",
   "execution_count": null,
   "metadata": {
    "ExecuteTime": {
     "end_time": "2018-09-23T10:53:26.065000Z",
     "start_time": "2018-09-23T10:53:26.061931Z"
    },
    "slideshow": {
     "slide_type": "fragment"
    }
   },
   "outputs": [],
   "source": [
    "# operatore moltiplicazione per n, n intero -> ripete la stringa n volte\n",
    "\"ciao \" * 3 \n"
   ]
  },
  {
   "cell_type": "markdown",
   "metadata": {
    "slideshow": {
     "slide_type": "slide"
    }
   },
   "source": [
    "- stampare stringhe "
   ]
  },
  {
   "cell_type": "code",
   "execution_count": null,
   "metadata": {
    "ExecuteTime": {
     "end_time": "2018-09-23T10:53:29.322863Z",
     "start_time": "2018-09-23T10:53:29.319110Z"
    },
    "slideshow": {
     "slide_type": "fragment"
    }
   },
   "outputs": [],
   "source": [
    "n = 2\n",
    "c = 'n'\n",
    "print(\"la variabile \" + c + \" contiene: \" + str(n))"
   ]
  },
  {
   "cell_type": "code",
   "execution_count": null,
   "metadata": {
    "ExecuteTime": {
     "end_time": "2018-09-23T10:53:31.221913Z",
     "start_time": "2018-09-23T10:53:31.218766Z"
    },
    "slideshow": {
     "slide_type": "fragment"
    }
   },
   "outputs": [],
   "source": [
    "print(\"la variabile\", c, \"contiene,\", n)"
   ]
  },
  {
   "cell_type": "code",
   "execution_count": null,
   "metadata": {
    "ExecuteTime": {
     "end_time": "2018-09-23T10:54:01.624424Z",
     "start_time": "2018-09-23T10:54:01.618230Z"
    },
    "slideshow": {
     "slide_type": "fragment"
    }
   },
   "outputs": [],
   "source": [
    "# la formattazione C per le stringhe è supportata\n",
    "print(\"la variabile %c contiene: %d\" % (c, n))"
   ]
  },
  {
   "cell_type": "markdown",
   "metadata": {
    "slideshow": {
     "slide_type": "slide"
    }
   },
   "source": [
    "<h3><center> liste </center></h3>"
   ]
  },
  {
   "cell_type": "code",
   "execution_count": 40,
   "metadata": {
    "ExecuteTime": {
     "end_time": "2018-09-24T09:01:35.988290Z",
     "start_time": "2018-09-24T09:01:35.978546Z"
    },
    "slideshow": {
     "slide_type": "fragment"
    }
   },
   "outputs": [],
   "source": [
    "# si inizializzano con [elemento1, elemento2, ..., elementoN]\n",
    "x = [0, 1, 2, 3]"
   ]
  },
  {
   "cell_type": "code",
   "execution_count": 41,
   "metadata": {
    "ExecuteTime": {
     "end_time": "2018-09-24T09:01:36.983225Z",
     "start_time": "2018-09-24T09:01:36.971280Z"
    },
    "slideshow": {
     "slide_type": "fragment"
    }
   },
   "outputs": [
    {
     "data": {
      "text/plain": [
       "2"
      ]
     },
     "execution_count": 41,
     "metadata": {},
     "output_type": "execute_result"
    }
   ],
   "source": [
    "# si indicizzano con [n]\n",
    "x[2]"
   ]
  },
  {
   "cell_type": "code",
   "execution_count": 42,
   "metadata": {
    "ExecuteTime": {
     "end_time": "2018-09-24T09:01:38.032235Z",
     "start_time": "2018-09-24T09:01:38.016730Z"
    },
    "slideshow": {
     "slide_type": "fragment"
    }
   },
   "outputs": [
    {
     "data": {
      "text/plain": [
       "[2, 3]"
      ]
     },
     "execution_count": 42,
     "metadata": {},
     "output_type": "execute_result"
    }
   ],
   "source": [
    "# selezionare una sottolista: [n:m]\n",
    "sublist = (x+y)[2:4]\n",
    "sublist"
   ]
  },
  {
   "cell_type": "markdown",
   "metadata": {
    "slideshow": {
     "slide_type": "fragment"
    }
   },
   "source": [
    "- sono mutabili"
   ]
  },
  {
   "cell_type": "code",
   "execution_count": 44,
   "metadata": {
    "ExecuteTime": {
     "end_time": "2018-09-24T09:01:54.211147Z",
     "start_time": "2018-09-24T09:01:54.199844Z"
    },
    "slideshow": {
     "slide_type": "fragment"
    }
   },
   "outputs": [
    {
     "data": {
      "text/plain": [
       "[0, 1, 4, 3]"
      ]
     },
     "execution_count": 44,
     "metadata": {},
     "output_type": "execute_result"
    }
   ],
   "source": [
    "x[2] = 4\n",
    "x"
   ]
  },
  {
   "cell_type": "markdown",
   "metadata": {
    "slideshow": {
     "slide_type": "slide"
    }
   },
   "source": [
    "<h3><center>ATTENZIONE!</center></h3>"
   ]
  },
  {
   "cell_type": "code",
   "execution_count": 45,
   "metadata": {
    "ExecuteTime": {
     "end_time": "2018-09-24T09:02:41.944698Z",
     "start_time": "2018-09-24T09:02:41.938884Z"
    },
    "slideshow": {
     "slide_type": "fragment"
    }
   },
   "outputs": [
    {
     "name": "stdout",
     "output_type": "stream",
     "text": [
      "x:  [0, 1, 2, 3]\n",
      "y:  [0, 1, 2, 3]\n"
     ]
    }
   ],
   "source": [
    "x = [0, 1, 2, 3]\n",
    "y = x\n",
    "print(\"x: \", x)\n",
    "print(\"y: \", y)"
   ]
  },
  {
   "cell_type": "code",
   "execution_count": 46,
   "metadata": {
    "ExecuteTime": {
     "end_time": "2018-09-24T09:02:45.891375Z",
     "start_time": "2018-09-24T09:02:45.885870Z"
    },
    "slideshow": {
     "slide_type": "fragment"
    }
   },
   "outputs": [
    {
     "name": "stdout",
     "output_type": "stream",
     "text": [
      "[0, 1, 10, 3]\n"
     ]
    }
   ],
   "source": [
    "y[2] = 10\n",
    "print(y)"
   ]
  },
  {
   "cell_type": "code",
   "execution_count": 47,
   "metadata": {
    "ExecuteTime": {
     "end_time": "2018-09-24T09:02:48.752260Z",
     "start_time": "2018-09-24T09:02:48.746951Z"
    },
    "slideshow": {
     "slide_type": "fragment"
    }
   },
   "outputs": [
    {
     "name": "stdout",
     "output_type": "stream",
     "text": [
      "[0, 1, 10, 3]\n"
     ]
    }
   ],
   "source": [
    "print(x)"
   ]
  },
  {
   "cell_type": "markdown",
   "metadata": {
    "slideshow": {
     "slide_type": "slide"
    }
   },
   "source": [
    "- liste di tipo ETEROGENEO"
   ]
  },
  {
   "cell_type": "code",
   "execution_count": 20,
   "metadata": {
    "ExecuteTime": {
     "end_time": "2018-09-24T08:42:17.064281Z",
     "start_time": "2018-09-24T08:42:17.056158Z"
    },
    "slideshow": {
     "slide_type": "fragment"
    }
   },
   "outputs": [
    {
     "data": {
      "text/plain": [
       "['ciao',\n",
       " 3,\n",
       " [0, 1, 2],\n",
       " 'cammello',\n",
       " ['n', 'o', 'n', ['fate', 'questo', 'a', 'casa']],\n",
       " (4+6j),\n",
       " 3.09]"
      ]
     },
     "execution_count": 20,
     "metadata": {},
     "output_type": "execute_result"
    }
   ],
   "source": [
    "lista = [\"ciao\", 3 , [0, 1, 2], \"cammello\", ['n', 'o','n', ['fate', \"questo\", \"a\", \"casa\"]], 4+6j, 3.09]\n",
    "lista"
   ]
  },
  {
   "cell_type": "markdown",
   "metadata": {
    "slideshow": {
     "slide_type": "fragment"
    }
   },
   "source": [
    "<h4><center>solo perchè si può fare non vuol dire che sia una buona idea farlo</center></h4>"
   ]
  },
  {
   "cell_type": "code",
   "execution_count": 17,
   "metadata": {
    "ExecuteTime": {
     "end_time": "2018-09-24T08:35:57.262288Z",
     "start_time": "2018-09-24T08:35:57.255805Z"
    },
    "slideshow": {
     "slide_type": "fragment"
    }
   },
   "outputs": [
    {
     "data": {
      "text/plain": [
       "'s'"
      ]
     },
     "execution_count": 17,
     "metadata": {},
     "output_type": "execute_result"
    }
   ],
   "source": [
    "lista[4][3][1][3]"
   ]
  },
  {
   "cell_type": "markdown",
   "metadata": {
    "ExecuteTime": {
     "end_time": "2018-09-24T08:43:21.169227Z",
     "start_time": "2018-09-24T08:43:21.158877Z"
    },
    "slideshow": {
     "slide_type": "slide"
    }
   },
   "source": [
    "- operare con le liste"
   ]
  },
  {
   "cell_type": "code",
   "execution_count": 48,
   "metadata": {
    "ExecuteTime": {
     "end_time": "2018-09-24T09:03:05.771842Z",
     "start_time": "2018-09-24T09:03:05.764698Z"
    },
    "slideshow": {
     "slide_type": "fragment"
    }
   },
   "outputs": [
    {
     "data": {
      "text/plain": [
       "[0, 1, 2, 3, 4, 5]"
      ]
     },
     "execution_count": 48,
     "metadata": {},
     "output_type": "execute_result"
    }
   ],
   "source": [
    "# operatore somma --> concatenzazione\n",
    "x = [0, 1, 2]\n",
    "y = [3, 4, 5]\n",
    "x + y"
   ]
  },
  {
   "cell_type": "code",
   "execution_count": 49,
   "metadata": {
    "ExecuteTime": {
     "end_time": "2018-09-24T09:03:06.982505Z",
     "start_time": "2018-09-24T09:03:06.974809Z"
    },
    "slideshow": {
     "slide_type": "fragment"
    }
   },
   "outputs": [
    {
     "data": {
      "text/plain": [
       "[1, 2, 3, 1, 2, 3, 1, 2, 3]"
      ]
     },
     "execution_count": 49,
     "metadata": {},
     "output_type": "execute_result"
    }
   ],
   "source": [
    "# operatore moltiplicazione per n --> ripete lista n volte\n",
    "x = [1,2,3]*3\n",
    "x"
   ]
  },
  {
   "cell_type": "markdown",
   "metadata": {
    "slideshow": {
     "slide_type": "slide"
    }
   },
   "source": [
    "<h3><center>ATTENZIONE!</center></h3>"
   ]
  },
  {
   "cell_type": "code",
   "execution_count": 50,
   "metadata": {
    "ExecuteTime": {
     "end_time": "2018-09-24T09:03:24.474177Z",
     "start_time": "2018-09-24T09:03:24.465713Z"
    },
    "slideshow": {
     "slide_type": "fragment"
    }
   },
   "outputs": [
    {
     "data": {
      "text/plain": [
       "[0, 1, 2]"
      ]
     },
     "execution_count": 50,
     "metadata": {},
     "output_type": "execute_result"
    }
   ],
   "source": [
    "x = [0, 1, 2]\n",
    "z = x\n",
    "z"
   ]
  },
  {
   "cell_type": "code",
   "execution_count": 53,
   "metadata": {
    "ExecuteTime": {
     "end_time": "2018-09-24T09:03:55.599468Z",
     "start_time": "2018-09-24T09:03:55.592419Z"
    },
    "slideshow": {
     "slide_type": "fragment"
    }
   },
   "outputs": [
    {
     "name": "stdout",
     "output_type": "stream",
     "text": [
      "z:  [0, 1, 2, 3, 4, 5, 3, 4, 5]\n",
      "x:  [0, 1, 2, 3, 4, 5]\n"
     ]
    }
   ],
   "source": [
    "z = z + [3, 4, 5]\n",
    "print(\"z: \", z)\n",
    "print(\"x: \", x)"
   ]
  },
  {
   "cell_type": "code",
   "execution_count": 54,
   "metadata": {
    "ExecuteTime": {
     "end_time": "2018-09-24T09:04:04.150537Z",
     "start_time": "2018-09-24T09:04:04.144234Z"
    },
    "slideshow": {
     "slide_type": "fragment"
    }
   },
   "outputs": [
    {
     "name": "stdout",
     "output_type": "stream",
     "text": [
      "z:  [0, 1, 2, 3, 4, 5, 3, 4, 5]\n",
      "x:  [0, 1, 2, 3, 4, 5, 3, 4, 5]\n"
     ]
    }
   ],
   "source": [
    "z = x\n",
    "z += [3, 4, 5]\n",
    "print(\"z: \", z)\n",
    "print(\"x: \", x)"
   ]
  },
  {
   "cell_type": "markdown",
   "metadata": {
    "ExecuteTime": {
     "end_time": "2018-09-24T09:04:31.596692Z",
     "start_time": "2018-09-24T09:04:31.591550Z"
    },
    "slideshow": {
     "slide_type": "slide"
    }
   },
   "source": [
    "- funzioni per le liste\n",
    "\n"
   ]
  },
  {
   "cell_type": "code",
   "execution_count": 56,
   "metadata": {
    "ExecuteTime": {
     "end_time": "2018-09-24T09:05:36.251404Z",
     "start_time": "2018-09-24T09:05:36.235538Z"
    },
    "slideshow": {
     "slide_type": "fragment"
    }
   },
   "outputs": [
    {
     "data": {
      "text/plain": [
       "[4, 1, 2, 3]"
      ]
     },
     "execution_count": 56,
     "metadata": {},
     "output_type": "execute_result"
    }
   ],
   "source": [
    "# inserire un elemento x nella posizione i: insert(i,x)\n",
    "lista = [1,2,3]\n",
    "lista.insert(0, 4) #inserisco 4 in testa\n",
    "lista"
   ]
  },
  {
   "cell_type": "code",
   "execution_count": 57,
   "metadata": {
    "ExecuteTime": {
     "end_time": "2018-09-24T09:06:31.995210Z",
     "start_time": "2018-09-24T09:06:31.989565Z"
    },
    "slideshow": {
     "slide_type": "fragment"
    }
   },
   "outputs": [
    {
     "data": {
      "text/plain": [
       "3"
      ]
     },
     "execution_count": 57,
     "metadata": {},
     "output_type": "execute_result"
    }
   ],
   "source": [
    "# prendere ed eliminare l'ultimo elemento della lista: pop()\n",
    "lista.pop()"
   ]
  },
  {
   "cell_type": "code",
   "execution_count": 58,
   "metadata": {
    "ExecuteTime": {
     "end_time": "2018-09-24T09:07:00.118857Z",
     "start_time": "2018-09-24T09:07:00.113483Z"
    },
    "slideshow": {
     "slide_type": "fragment"
    }
   },
   "outputs": [
    {
     "data": {
      "text/plain": [
       "[4, 1, 2]"
      ]
     },
     "execution_count": 58,
     "metadata": {},
     "output_type": "execute_result"
    }
   ],
   "source": [
    "lista"
   ]
  }
 ],
 "metadata": {
  "celltoolbar": "Slideshow",
  "kernelspec": {
   "display_name": "Python 3",
   "language": "python",
   "name": "python3"
  },
  "language_info": {
   "codemirror_mode": {
    "name": "ipython",
    "version": 3
   },
   "file_extension": ".py",
   "mimetype": "text/x-python",
   "name": "python",
   "nbconvert_exporter": "python",
   "pygments_lexer": "ipython3",
   "version": "3.6.6"
  }
 },
 "nbformat": 4,
 "nbformat_minor": 2
}
