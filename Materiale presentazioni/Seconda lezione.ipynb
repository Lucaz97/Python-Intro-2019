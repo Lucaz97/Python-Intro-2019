{
 "cells": [
  {
   "cell_type": "code",
   "execution_count": 2,
   "metadata": {
    "ExecuteTime": {
     "end_time": "2019-03-02T21:51:11.817862Z",
     "start_time": "2019-03-02T21:51:11.815612Z"
    },
    "slideshow": {
     "slide_type": "skip"
    }
   },
   "outputs": [],
   "source": [
    "#TODO: tuples pythonic loops list comprehension  funzioni"
   ]
  },
  {
   "cell_type": "markdown",
   "metadata": {
    "slideshow": {
     "slide_type": "slide"
    }
   },
   "source": [
    "<h1><center>\n",
    "    Introduzione a Python\n",
    "</center></h1>\n",
    "\n",
    "### seconda lezione:\n",
    "\n",
    "- dizionari e tuple\n",
    "- pythonic loops\n",
    "- list comprehension\n",
    "- funzioni"
   ]
  },
  {
   "cell_type": "markdown",
   "metadata": {
    "slideshow": {
     "slide_type": "slide"
    }
   },
   "source": [
    "<h3><center> Dictionaries </center></h3>"
   ]
  },
  {
   "cell_type": "markdown",
   "metadata": {
    "slideshow": {
     "slide_type": "fragment"
    }
   },
   "source": [
    "Struttura dati a \"chiave-valore\""
   ]
  },
  {
   "cell_type": "code",
   "execution_count": null,
   "metadata": {
    "slideshow": {
     "slide_type": "fragment"
    }
   },
   "outputs": [],
   "source": [
    "dizionario = {'chiave': 'valore', 'nome': 'Daniele', 'cognome': 'Brambilla'}\n",
    "dizionario['nome']"
   ]
  },
  {
   "cell_type": "code",
   "execution_count": null,
   "metadata": {
    "slideshow": {
     "slide_type": "fragment"
    }
   },
   "outputs": [],
   "source": [
    "dizionario['CodFiscale']"
   ]
  },
  {
   "cell_type": "code",
   "execution_count": null,
   "metadata": {
    "slideshow": {
     "slide_type": "fragment"
    }
   },
   "outputs": [],
   "source": [
    "dizionario.get('codFiscale')"
   ]
  },
  {
   "cell_type": "code",
   "execution_count": null,
   "metadata": {
    "slideshow": {
     "slide_type": "fragment"
    }
   },
   "outputs": [],
   "source": [
    "dizionario.get(\"cognome\")"
   ]
  },
  {
   "cell_type": "markdown",
   "metadata": {
    "slideshow": {
     "slide_type": "slide"
    }
   },
   "source": [
    "tipo di dato mutabile"
   ]
  },
  {
   "cell_type": "code",
   "execution_count": null,
   "metadata": {
    "slideshow": {
     "slide_type": "fragment"
    }
   },
   "outputs": [],
   "source": [
    "numeri_telefono = {'galbiatone': 666666666}\n",
    "numeri_telefono[\"Daniele\"] = 1223453\n",
    "numeri_telefono"
   ]
  },
  {
   "cell_type": "markdown",
   "metadata": {
    "slideshow": {
     "slide_type": "fragment"
    }
   },
   "source": [
    "basato su hashtables \n",
    "https://www.youtube.com/watch?v=npw4s1QTmPg"
   ]
  },
  {
   "cell_type": "markdown",
   "metadata": {
    "slideshow": {
     "slide_type": "slide"
    }
   },
   "source": [
    "<h3><center> Loops </center></h3>"
   ]
  },
  {
   "cell_type": "markdown",
   "metadata": {
    "slideshow": {
     "slide_type": "fragment"
    }
   },
   "source": [
    "### Come facciamo dei cicli di questo tipo con un for in python?"
   ]
  },
  {
   "cell_type": "code",
   "execution_count": 1,
   "metadata": {
    "slideshow": {
     "slide_type": "fragment"
    }
   },
   "outputs": [],
   "source": [
    "lista = [\"Mike\", \"Dan\", \"David\"]\n",
    "# Stampare i affianco all'elemento i-esimo di lista\n",
    "# 1 Mike\n",
    "# 2 Dan ...\n"
   ]
  },
  {
   "cell_type": "code",
   "execution_count": 5,
   "metadata": {
    "ExecuteTime": {
     "end_time": "2019-03-14T21:56:24.168286Z",
     "start_time": "2019-03-14T21:56:24.159976Z"
    },
    "slideshow": {
     "slide_type": "slide"
    }
   },
   "outputs": [
    {
     "name": "stdout",
     "output_type": "stream",
     "text": [
      "['David', 'Dan', 'Mike']\n"
     ]
    }
   ],
   "source": [
    "lista1 = [\"Mike\", \"Dan\", \"David\"]\n",
    "lista2 = [\"Buongiorno\", \"Peterson\", \"Bowie\"]\n",
    "# Stampare l'elemento i-esimo di lista1 affianco all'elemento i-esimo di lista2\n",
    "# Mike Buongiorno\n",
    "# Dan Peterson ...\n"
   ]
  },
  {
   "cell_type": "code",
   "execution_count": 3,
   "metadata": {
    "ExecuteTime": {
     "end_time": "2019-03-14T21:55:58.555422Z",
     "start_time": "2019-03-14T21:55:58.549057Z"
    },
    "slideshow": {
     "slide_type": "slide"
    }
   },
   "outputs": [
    {
     "name": "stdout",
     "output_type": "stream",
     "text": [
      "David\n",
      "Dan\n",
      "Mike\n"
     ]
    }
   ],
   "source": [
    "lista = [\"Mike\", \"Dan\", \"David\"]\n",
    "# Stampare gli elementi di lista partendo dall'ultimo elemento\n",
    "# Mike Buongiorno\n",
    "# Dan Peterson ...\n",
    "    "
   ]
  },
  {
   "cell_type": "code",
   "execution_count": null,
   "metadata": {
    "slideshow": {
     "slide_type": "slide"
    }
   },
   "outputs": [],
   "source": [
    "lista = [\"Mike\", \"Dan\", \"David\"]\n",
    "# Stampare gli elementi di lista in ordine alfabetico\n",
    "# Mike Buongiorno\n",
    "# Dan Peterson ...\n"
   ]
  },
  {
   "cell_type": "markdown",
   "metadata": {
    "slideshow": {
     "slide_type": "slide"
    }
   },
   "source": [
    "<h3><center>List Comprehension</center></h3>"
   ]
  },
  {
   "cell_type": "code",
   "execution_count": 10,
   "metadata": {
    "ExecuteTime": {
     "end_time": "2019-03-14T22:10:23.047263Z",
     "start_time": "2019-03-14T22:10:23.041523Z"
    },
    "slideshow": {
     "slide_type": "fragment"
    }
   },
   "outputs": [
    {
     "name": "stdout",
     "output_type": "stream",
     "text": [
      "[]\n"
     ]
    }
   ],
   "source": [
    "import random\n",
    "#riempire lista com i numeri pari fra 0 e 99\n",
    "lista = []\n",
    "\n",
    "print(lista)\n"
   ]
  },
  {
   "cell_type": "code",
   "execution_count": 23,
   "metadata": {
    "ExecuteTime": {
     "end_time": "2019-03-14T22:24:48.647281Z",
     "start_time": "2019-03-14T22:24:48.641938Z"
    },
    "slideshow": {
     "slide_type": "slide"
    }
   },
   "outputs": [
    {
     "name": "stdout",
     "output_type": "stream",
     "text": [
      "[]\n"
     ]
    }
   ],
   "source": [
    "nomi = [\"Brad\", \"Steve\", \"Michael\"]\n",
    "cognomi = [\"Smith\", \"Jobs\", \"Jordan\"]\n",
    "docenti = [\"Brad Smith\"]\n",
    "# riempire polEmail con le mail delle persone descritte dalle liste sopra\n",
    "polEmail = []\n",
    "print(polEmail)\n",
    "\n",
    "# le email sono case insensitive quindi siamo a posto ... the more you know ... "
   ]
  },
  {
   "cell_type": "markdown",
   "metadata": {
    "slideshow": {
     "slide_type": "slide"
    }
   },
   "source": [
    "<h3><center>Funzioni</center></h3>"
   ]
  },
  {
   "cell_type": "code",
   "execution_count": 58,
   "metadata": {
    "ExecuteTime": {
     "end_time": "2019-03-14T22:55:04.710405Z",
     "start_time": "2019-03-14T22:55:04.702233Z"
    },
    "slideshow": {
     "slide_type": "fragment"
    }
   },
   "outputs": [
    {
     "name": "stdout",
     "output_type": "stream",
     "text": [
      "Hello\n"
     ]
    },
    {
     "data": {
      "text/plain": [
       "2.0"
      ]
     },
     "execution_count": 58,
     "metadata": {},
     "output_type": "execute_result"
    }
   ],
   "source": [
    "def print_hello():\n",
    "    print(\"Hello\")\n",
    "    \n",
    "def dividi(dividendo, divisore):\n",
    "    return dividendo/divisore\n",
    "\n",
    "print_hello()\n",
    "dividi(1, 2)\n",
    "#def nome_funzione( param1, param2, ..):\n",
    "#   corpo funzione indentato"
   ]
  },
  {
   "cell_type": "markdown",
   "metadata": {
    "slideshow": {
     "slide_type": "slide"
    }
   },
   "source": [
    "#### Parametri con valori di default"
   ]
  },
  {
   "cell_type": "code",
   "execution_count": 31,
   "metadata": {
    "ExecuteTime": {
     "end_time": "2019-03-14T22:36:43.181297Z",
     "start_time": "2019-03-14T22:36:43.176407Z"
    },
    "slideshow": {
     "slide_type": "fragment"
    }
   },
   "outputs": [
    {
     "name": "stdout",
     "output_type": "stream",
     "text": [
      "ciao Michele\n",
      "ciao Antonio\n"
     ]
    }
   ],
   "source": [
    "def saluta(nome=\"Antonio\"):\n",
    "    print(\"ciao\", nome)\n",
    "\n",
    "saluta(\"Michele\")\n",
    "saluta()\n",
    "\n",
    "#def funzione(param1, ... ,paramN, defParam=val, defParam2 ...):\n",
    "#    corpo funzione"
   ]
  },
  {
   "cell_type": "markdown",
   "metadata": {
    "slideshow": {
     "slide_type": "slide"
    }
   },
   "source": [
    "<h3><center>Tuple</center></h3>\n",
    "\n",
    "#### Liste immutabili"
   ]
  },
  {
   "cell_type": "code",
   "execution_count": 33,
   "metadata": {
    "ExecuteTime": {
     "end_time": "2019-03-14T22:40:12.598015Z",
     "start_time": "2019-03-14T22:40:12.593823Z"
    },
    "slideshow": {
     "slide_type": "fragment"
    }
   },
   "outputs": [
    {
     "name": "stdout",
     "output_type": "stream",
     "text": [
      "<class 'tuple'>\n"
     ]
    }
   ],
   "source": [
    "tupla = (1,2,3)\n",
    "print(type(tupla))"
   ]
  },
  {
   "cell_type": "code",
   "execution_count": 46,
   "metadata": {
    "ExecuteTime": {
     "end_time": "2019-03-14T22:46:05.828330Z",
     "start_time": "2019-03-14T22:46:05.817911Z"
    },
    "slideshow": {
     "slide_type": "fragment"
    }
   },
   "outputs": [
    {
     "data": {
      "text/plain": [
       "2"
      ]
     },
     "execution_count": 46,
     "metadata": {},
     "output_type": "execute_result"
    }
   ],
   "source": [
    "# si comporta esattamente come una lista negli accessi\n",
    "tupla = (2, \"Luca\", (4,5), [\"random\", \"stuff\"])\n",
    "tupla[0]\n",
    "# si comporta esattamente come una lista negli accessi"
   ]
  },
  {
   "cell_type": "markdown",
   "metadata": {
    "slideshow": {
     "slide_type": "slide"
    }
   },
   "source": [
    "#### Funzioni con numero di parametri variabile\n",
    "\n"
   ]
  },
  {
   "cell_type": "code",
   "execution_count": 60,
   "metadata": {
    "ExecuteTime": {
     "end_time": "2019-03-14T22:56:36.461752Z",
     "start_time": "2019-03-14T22:56:36.453615Z"
    },
    "slideshow": {
     "slide_type": "fragment"
    }
   },
   "outputs": [
    {
     "name": "stdout",
     "output_type": "stream",
     "text": [
      "<class 'tuple'>\n"
     ]
    },
    {
     "data": {
      "text/plain": [
       "3"
      ]
     },
     "execution_count": 60,
     "metadata": {},
     "output_type": "execute_result"
    }
   ],
   "source": [
    "def somma(*nums):\n",
    "    risultato = 0\n",
    "    #print(type(nums))\n",
    "    for num in nums:\n",
    "        risultato+=num\n",
    "    return risultato\n",
    "somma(1,2,3)"
   ]
  }
 ],
 "metadata": {
  "celltoolbar": "Slideshow",
  "kernelspec": {
   "display_name": "Python 3",
   "language": "python",
   "name": "python3"
  },
  "language_info": {
   "codemirror_mode": {
    "name": "ipython",
    "version": 3
   },
   "file_extension": ".py",
   "mimetype": "text/x-python",
   "name": "python",
   "nbconvert_exporter": "python",
   "pygments_lexer": "ipython3",
   "version": "3.6.8"
  },
  "livereveal": {
   "autolaunch": true,
   "transition": "zoom"
  }
 },
 "nbformat": 4,
 "nbformat_minor": 2
}
