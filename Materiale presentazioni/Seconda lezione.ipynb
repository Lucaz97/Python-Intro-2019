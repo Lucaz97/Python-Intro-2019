{
 "cells": [
  {
   "cell_type": "code",
   "execution_count": 2,
   "metadata": {
    "ExecuteTime": {
     "end_time": "2019-03-02T21:51:11.817862Z",
     "start_time": "2019-03-02T21:51:11.815612Z"
    },
    "slideshow": {
     "slide_type": "skip"
    }
   },
   "outputs": [],
   "source": [
    "#TODO: tuples pythonic loops list comprehension  funzioni"
   ]
  },
  {
   "cell_type": "markdown",
   "metadata": {
    "slideshow": {
     "slide_type": "slide"
    }
   },
   "source": [
    "<h1><center>\n",
    "    Introduzione a Python\n",
    "</center></h1>\n",
    "\n",
    "### seconda lezione:\n",
    "\n",
    "- dizionari e tuple\n",
    "- pythonic loops\n",
    "- list comprehension\n",
    "- funzioni"
   ]
  },
  {
   "cell_type": "markdown",
   "metadata": {
    "slideshow": {
     "slide_type": "slide"
    }
   },
   "source": [
    "<h3><center> Dictionaries </center></h3>"
   ]
  },
  {
   "cell_type": "markdown",
   "metadata": {
    "slideshow": {
     "slide_type": "fragment"
    }
   },
   "source": [
    "Struttura dati a \"chiave-valore\""
   ]
  },
  {
   "cell_type": "code",
   "execution_count": null,
   "metadata": {
    "slideshow": {
     "slide_type": "fragment"
    }
   },
   "outputs": [],
   "source": [
    "dizionario = {'chiave': 'valore', 'nome': 'Daniele', 'cognome': 'Brambilla'}\n",
    "dizionario['nome']"
   ]
  },
  {
   "cell_type": "code",
   "execution_count": null,
   "metadata": {
    "slideshow": {
     "slide_type": "fragment"
    }
   },
   "outputs": [],
   "source": [
    "dizionario['CodFiscale']"
   ]
  },
  {
   "cell_type": "code",
   "execution_count": null,
   "metadata": {
    "slideshow": {
     "slide_type": "fragment"
    }
   },
   "outputs": [],
   "source": [
    "dizionario.get('codFiscale')"
   ]
  },
  {
   "cell_type": "code",
   "execution_count": null,
   "metadata": {
    "slideshow": {
     "slide_type": "fragment"
    }
   },
   "outputs": [],
   "source": [
    "dizionario.get(\"cognome\")"
   ]
  },
  {
   "cell_type": "markdown",
   "metadata": {
    "slideshow": {
     "slide_type": "slide"
    }
   },
   "source": [
    "tipo di dato mutabile"
   ]
  },
  {
   "cell_type": "code",
   "execution_count": null,
   "metadata": {
    "slideshow": {
     "slide_type": "fragment"
    }
   },
   "outputs": [],
   "source": [
    "numeri_telefono = {'galbiatone': 666666666}\n",
    "numeri_telefono[\"Daniele\"] = 1223453\n",
    "numeri_telefono"
   ]
  },
  {
   "cell_type": "markdown",
   "metadata": {
    "slideshow": {
     "slide_type": "fragment"
    }
   },
   "source": [
    "basato su hashtables \n",
    "https://www.youtube.com/watch?v=npw4s1QTmPg"
   ]
  },
  {
   "cell_type": "markdown",
   "metadata": {
    "slideshow": {
     "slide_type": "slide"
    }
   },
   "source": [
    "<h3><center> Loops </center></h3>"
   ]
  },
  {
   "cell_type": "markdown",
   "metadata": {
    "slideshow": {
     "slide_type": "fragment"
    }
   },
   "source": [
    "### Come facciamo dei cicli di questo tipo con un for in python?"
   ]
  },
  {
   "cell_type": "code",
   "execution_count": 1,
   "metadata": {
    "slideshow": {
     "slide_type": "fragment"
    }
   },
   "outputs": [],
   "source": [
    "lista = [\"Mike\", \"Dan\", \"David\"]\n",
    "# Stampare i affianco all'elemento i-esimo di lista\n",
    "# 1 Mike\n",
    "# 2 Dan ..."
   ]
  },
  {
   "cell_type": "code",
   "execution_count": null,
   "metadata": {
    "slideshow": {
     "slide_type": "slide"
    }
   },
   "outputs": [],
   "source": [
    "lista1 = [\"Mike\", \"Dan\", \"David\"]\n",
    "lista2 = [\"Buongiorno\", \"Peterson\", \"Bowie\"]\n",
    "# Stampare l'elemento i-esimo di lista1 affianco all'elemento i-esimo di lista2\n",
    "# Mike Buongiorno\n",
    "# Dan Peterson ..."
   ]
  },
  {
   "cell_type": "code",
   "execution_count": null,
   "metadata": {
    "slideshow": {
     "slide_type": "slide"
    }
   },
   "outputs": [],
   "source": [
    "lista = [\"Mike\", \"Dan\", \"David\"]\n",
    "# Stampare gli elementi di lista partendo dall'ultimo elemento\n",
    "# Mike Buongiorno\n",
    "# Dan Peterson ..."
   ]
  },
  {
   "cell_type": "code",
   "execution_count": null,
   "metadata": {},
   "outputs": [],
   "source": [
    "lista = [\"Mike\", \"Dan\", \"David\"]\n",
    "# Stampare gli elementi di lista in ordine alfabetico\n",
    "# Mike Buongiorno\n",
    "# Dan Peterson ..."
   ]
  }
 ],
 "metadata": {
  "celltoolbar": "Slideshow",
  "kernelspec": {
   "display_name": "Python 3",
   "language": "python",
   "name": "python3"
  },
  "language_info": {
   "codemirror_mode": {
    "name": "ipython",
    "version": 3
   },
   "file_extension": ".py",
   "mimetype": "text/x-python",
   "name": "python",
   "nbconvert_exporter": "python",
   "pygments_lexer": "ipython3",
   "version": "3.6.8"
  },
  "livereveal": {
   "autolaunch": true,
   "transition": "zoom"
  }
 },
 "nbformat": 4,
 "nbformat_minor": 2
}
