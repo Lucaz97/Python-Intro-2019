{
 "cells": [
  {
   "cell_type": "markdown",
   "metadata": {
    "slideshow": {
     "slide_type": "slide"
    }
   },
   "source": [
    "<h1><center>\n",
    "    Introduzione a Python\n",
    "</center></h1>\n",
    "\n",
    "### seconda lezione:\n",
    "\n",
    "- dizionari e tuple\n",
    "- pythonic loops\n",
    "- list comprehension\n",
    "- funzioni"
   ]
  },
  {
   "cell_type": "markdown",
   "metadata": {
    "slideshow": {
     "slide_type": "slide"
    }
   },
   "source": [
    "<h3><center> Dictionaries </center></h3>"
   ]
  },
  {
   "cell_type": "markdown",
   "metadata": {
    "slideshow": {
     "slide_type": "fragment"
    }
   },
   "source": [
    "Struttura dati a \"chiave-valore\""
   ]
  },
  {
   "cell_type": "code",
   "execution_count": null,
   "metadata": {
    "ExecuteTime": {
     "end_time": "2019-03-20T15:29:22.529560Z",
     "start_time": "2019-03-20T15:29:22.522860Z"
    },
    "slideshow": {
     "slide_type": "fragment"
    }
   },
   "outputs": [],
   "source": [
    "dizionario = {'chiave': 'valore', 'nome': 'Daniele', 'cognome': 'Brambilla'}\n",
    "dizionario['nome']"
   ]
  },
  {
   "cell_type": "code",
   "execution_count": null,
   "metadata": {
    "ExecuteTime": {
     "end_time": "2019-03-20T15:29:24.537058Z",
     "start_time": "2019-03-20T15:29:24.524830Z"
    },
    "slideshow": {
     "slide_type": "fragment"
    }
   },
   "outputs": [],
   "source": [
    "dizionario['CodFiscale']"
   ]
  },
  {
   "cell_type": "code",
   "execution_count": null,
   "metadata": {
    "ExecuteTime": {
     "end_time": "2019-03-20T15:30:17.924392Z",
     "start_time": "2019-03-20T15:30:17.920345Z"
    },
    "slideshow": {
     "slide_type": "slide"
    }
   },
   "outputs": [],
   "source": [
    "dizionario = {\"nome\": \"luca\"}\n",
    "dizionario.get('codFiscale')"
   ]
  },
  {
   "cell_type": "code",
   "execution_count": null,
   "metadata": {
    "ExecuteTime": {
     "end_time": "2019-03-20T15:31:02.642430Z",
     "start_time": "2019-03-20T15:31:02.637393Z"
    },
    "slideshow": {
     "slide_type": "fragment"
    }
   },
   "outputs": [],
   "source": [
    "dizionario.get(\"nome\")"
   ]
  },
  {
   "cell_type": "markdown",
   "metadata": {
    "slideshow": {
     "slide_type": "slide"
    }
   },
   "source": [
    "tipo di dato mutabile"
   ]
  },
  {
   "cell_type": "code",
   "execution_count": null,
   "metadata": {
    "ExecuteTime": {
     "end_time": "2019-03-20T15:31:05.149848Z",
     "start_time": "2019-03-20T15:31:05.144418Z"
    },
    "slideshow": {
     "slide_type": "fragment"
    }
   },
   "outputs": [],
   "source": [
    "numeri_telefono = {'galbiatone': 666666666}\n",
    "numeri_telefono[\"Daniele\"] = 1223453\n",
    "numeri_telefono"
   ]
  },
  {
   "cell_type": "markdown",
   "metadata": {
    "slideshow": {
     "slide_type": "fragment"
    }
   },
   "source": [
    "basato su hashtables \n",
    "https://www.youtube.com/watch?v=npw4s1QTmPg"
   ]
  },
  {
   "cell_type": "markdown",
   "metadata": {
    "slideshow": {
     "slide_type": "slide"
    }
   },
   "source": [
    "<font size=5> Per produrre una maglietta di taglia S servono 25 unità di cotone, per una di taglia M 63 unità di cotone e per una taglia L 84 unità di cotone. Data in input una stringa con i soli caratteri S, M, L corrispondenti agli ordini ricevuti, calcolare le unità di cotone necessarie a produrre tutte le magliette ordinate.</font>\n"
   ]
  },
  {
   "cell_type": "code",
   "execution_count": null,
   "metadata": {
    "ExecuteTime": {
     "end_time": "2019-03-20T15:35:01.754361Z",
     "start_time": "2019-03-20T15:35:01.740871Z"
    },
    "slideshow": {
     "slide_type": "fragment"
    }
   },
   "outputs": [],
   "source": [
    "ordini = 'SLLLLSMLMMMMMSLMMMSLLSMMLLLSSSSSMMLSMLSSSSSLSMSSLMMMSSLLLSMMMSLSSMMSLSSSLLSMMSSLLLSMMSMLSMSLMSLSLSLLLMSMMMLLMS'\n"
   ]
  },
  {
   "cell_type": "markdown",
   "metadata": {
    "slideshow": {
     "slide_type": "slide"
    }
   },
   "source": [
    "<h3><center> Loops </center></h3>"
   ]
  },
  {
   "cell_type": "markdown",
   "metadata": {
    "slideshow": {
     "slide_type": "fragment"
    }
   },
   "source": [
    "#### Come facciamo dei cicli di questo tipo con un for in python?"
   ]
  },
  {
   "cell_type": "code",
   "execution_count": null,
   "metadata": {
    "ExecuteTime": {
     "end_time": "2019-03-20T15:28:53.326639Z",
     "start_time": "2019-03-20T15:28:53.321564Z"
    },
    "slideshow": {
     "slide_type": "fragment"
    }
   },
   "outputs": [],
   "source": [
    "lista = [\"Mike\", \"Dan\", \"David\"]\n",
    "# Stampare i affianco all'elemento i-esimo di lista\n",
    "# 1 Mike\n",
    "# 2 Dan ...\n"
   ]
  },
  {
   "cell_type": "code",
   "execution_count": null,
   "metadata": {
    "ExecuteTime": {
     "end_time": "2019-03-20T15:35:35.187806Z",
     "start_time": "2019-03-20T15:35:35.180540Z"
    },
    "slideshow": {
     "slide_type": "slide"
    }
   },
   "outputs": [],
   "source": [
    "lista1 = [\"Mike\", \"Dan\", \"David\"]\n",
    "lista2 = [\"Buongiorno\", \"Peterson\", \"Bowie\"]\n",
    "# Stampare l'elemento i-esimo di lista1 affianco all'elemento i-esimo di lista2\n",
    "# Mike Buongiorno\n",
    "# Dan Peterson ...\n"
   ]
  },
  {
   "cell_type": "code",
   "execution_count": null,
   "metadata": {
    "ExecuteTime": {
     "end_time": "2019-03-14T21:55:58.555422Z",
     "start_time": "2019-03-14T21:55:58.549057Z"
    },
    "slideshow": {
     "slide_type": "slide"
    }
   },
   "outputs": [],
   "source": [
    "lista = [\"Mike\", \"Dan\", \"David\"]\n",
    "# Stampare gli elementi di lista partendo dall'ultimo elemento\n",
    "# David \n",
    "# Dan  ...\n",
    "    "
   ]
  },
  {
   "cell_type": "code",
   "execution_count": null,
   "metadata": {
    "ExecuteTime": {
     "end_time": "2019-03-20T15:36:32.062518Z",
     "start_time": "2019-03-20T15:36:32.056082Z"
    },
    "slideshow": {
     "slide_type": "slide"
    }
   },
   "outputs": [],
   "source": [
    "lista = [\"Mike\", \"Dan\", \"David\"]\n",
    "# Stampare gli elementi di lista in ordine alfabetico\n",
    "# Dan Buongiorno\n",
    "# David Peterson ...\n"
   ]
  },
  {
   "cell_type": "markdown",
   "metadata": {
    "slideshow": {
     "slide_type": "slide"
    }
   },
   "source": [
    "<h3><center>List Comprehension</center></h3>"
   ]
  },
  {
   "cell_type": "code",
   "execution_count": null,
   "metadata": {
    "ExecuteTime": {
     "end_time": "2019-03-20T15:37:07.673059Z",
     "start_time": "2019-03-20T15:37:07.668373Z"
    },
    "slideshow": {
     "slide_type": "fragment"
    }
   },
   "outputs": [],
   "source": [
    "import random\n",
    "#riempire lista com i numeri pari fra 0 e 99\n",
    "lista = []\n",
    "\n",
    "print(lista)\n"
   ]
  },
  {
   "cell_type": "code",
   "execution_count": null,
   "metadata": {
    "ExecuteTime": {
     "end_time": "2019-03-20T15:38:49.854969Z",
     "start_time": "2019-03-20T15:38:49.848105Z"
    },
    "slideshow": {
     "slide_type": "slide"
    }
   },
   "outputs": [],
   "source": [
    "nomi = [\"Brad\", \"Steve\", \"Michael\"]\n",
    "cognomi = [\"Smith\", \"Jobs\", \"Jordan\"]\n",
    "\n",
    "# riempire polEmail con le mail delle persone descritte dalle liste sopra\n",
    "polEmail = [nome+\".\"+cognome+\"@mail.polimi.it\" for nome, cognome in zip(nomi, cognomi)]\n",
    "print(polEmail)\n",
    "\n",
    "# le email sono case insensitive quindi siamo a posto ... the more you know ... "
   ]
  },
  {
   "cell_type": "markdown",
   "metadata": {
    "slideshow": {
     "slide_type": "slide"
    }
   },
   "source": [
    "<h3><center>Funzioni</center></h3>"
   ]
  },
  {
   "cell_type": "code",
   "execution_count": null,
   "metadata": {
    "ExecuteTime": {
     "end_time": "2019-03-20T15:39:04.948051Z",
     "start_time": "2019-03-20T15:39:04.939826Z"
    },
    "slideshow": {
     "slide_type": "fragment"
    }
   },
   "outputs": [],
   "source": [
    "def print_hello():\n",
    "    print(\"Hello\")\n",
    "    \n",
    "def dividi(dividendo, divisore):\n",
    "    return dividendo/divisore\n",
    "\n",
    "print_hello()\n",
    "dividi(1, 2)\n",
    "#def nome_funzione( param1, param2, ..):\n",
    "#   corpo funzione indentato"
   ]
  },
  {
   "cell_type": "markdown",
   "metadata": {
    "slideshow": {
     "slide_type": "slide"
    }
   },
   "source": [
    "#### Parametri con valori di default"
   ]
  },
  {
   "cell_type": "code",
   "execution_count": null,
   "metadata": {
    "ExecuteTime": {
     "end_time": "2019-03-20T15:39:08.786589Z",
     "start_time": "2019-03-20T15:39:08.780455Z"
    },
    "slideshow": {
     "slide_type": "fragment"
    }
   },
   "outputs": [],
   "source": [
    "def saluta(nome=\"Antonio\"):\n",
    "    print(\"ciao\", nome)\n",
    "\n",
    "saluta(\"Michele\")\n",
    "saluta()\n",
    "\n",
    "#def funzione(param1, ... ,paramN, defParam=val, defParam2 ...):\n",
    "#    corpo funzione"
   ]
  },
  {
   "cell_type": "markdown",
   "metadata": {
    "slideshow": {
     "slide_type": "slide"
    }
   },
   "source": [
    "<h3><center>Tuple</center></h3>\n",
    "\n",
    "#### Liste immutabili"
   ]
  },
  {
   "cell_type": "code",
   "execution_count": null,
   "metadata": {
    "ExecuteTime": {
     "end_time": "2019-03-20T15:39:12.743141Z",
     "start_time": "2019-03-20T15:39:12.738294Z"
    },
    "slideshow": {
     "slide_type": "fragment"
    }
   },
   "outputs": [],
   "source": [
    "tupla = (1,2,3)\n",
    "print(type(tupla))"
   ]
  },
  {
   "cell_type": "code",
   "execution_count": null,
   "metadata": {
    "ExecuteTime": {
     "end_time": "2019-03-20T15:39:14.127494Z",
     "start_time": "2019-03-20T15:39:14.120692Z"
    },
    "slideshow": {
     "slide_type": "fragment"
    }
   },
   "outputs": [],
   "source": [
    "# si comporta esattamente come una lista negli accessi\n",
    "tupla = (2, \"Luca\", (4,5), [\"random\", \"stuff\"])\n",
    "tupla[0]\n",
    "# si comporta esattamente come una lista negli accessi"
   ]
  },
  {
   "cell_type": "markdown",
   "metadata": {
    "slideshow": {
     "slide_type": "slide"
    }
   },
   "source": [
    "#### Funzioni con numero di parametri variabile\n",
    "\n"
   ]
  },
  {
   "cell_type": "code",
   "execution_count": null,
   "metadata": {
    "ExecuteTime": {
     "end_time": "2019-03-20T15:39:16.020596Z",
     "start_time": "2019-03-20T15:39:16.013698Z"
    },
    "slideshow": {
     "slide_type": "fragment"
    }
   },
   "outputs": [],
   "source": [
    "def somma(*nums):\n",
    "    risultato = 0\n",
    "    #print(type(nums))\n",
    "    for num in nums:\n",
    "        risultato+=num\n",
    "    return risultato\n",
    "somma(1,2,3)"
   ]
  }
 ],
 "metadata": {
  "celltoolbar": "Slideshow",
  "kernelspec": {
   "display_name": "Python 3",
   "language": "python",
   "name": "python3"
  },
  "language_info": {
   "codemirror_mode": {
    "name": "ipython",
    "version": 3
   },
   "file_extension": ".py",
   "mimetype": "text/x-python",
   "name": "python",
   "nbconvert_exporter": "python",
   "pygments_lexer": "ipython3",
   "version": "3.6.8"
  },
  "livereveal": {
   "autolaunch": true,
   "transition": "zoom"
  }
 },
 "nbformat": 4,
 "nbformat_minor": 2
}
