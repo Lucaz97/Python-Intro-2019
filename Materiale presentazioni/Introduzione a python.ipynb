{
 "cells": [
  {
   "cell_type": "markdown",
   "metadata": {
    "ExecuteTime": {
     "end_time": "2018-09-20T20:19:40.772359Z",
     "start_time": "2018-09-20T20:19:40.759391Z"
    },
    "slideshow": {
     "slide_type": "slide"
    }
   },
   "source": [
    "<h1><center>\n",
    "    Introduzione a Python\n",
    "</center></h1>\n"
   ]
  },
  {
   "cell_type": "markdown",
   "metadata": {
    "slideshow": {
     "slide_type": "fragment"
    }
   },
   "source": [
    "<h3><center>\n",
    "    \"Python is a programming language that lets you work quickly and integrate systems more effectively.\"\n",
    "</center><h3>\n",
    "<h5 align=\"right\">\n",
    "    python.org\n",
    "</h5>"
   ]
  },
  {
   "cell_type": "markdown",
   "metadata": {
    "slideshow": {
     "slide_type": "slide"
    }
   },
   "source": [
    "<center> <img src=\"https://scontent-ams3-1.cdninstagram.com/vp/7114bda05b3d85134655e127144b2fab/5C9338B8/t51.2885-15/sh0.08/e35/c0.16.720.720/s640x640/44899810_310212432923701_735992559513383835_n.jpg\" />\n",
    "</center>"
   ]
  },
  {
   "cell_type": "markdown",
   "metadata": {
    "slideshow": {
     "slide_type": "slide"
    }
   },
   "source": [
    "# Tools\n",
    "Pagina git hub con links: www.github.com/Lucaz97/Python-Intro-2019\n",
    "- Interprete python su terminale\n",
    "    - Downolad: https://www.python.org/downloads/\n",
    "- Interprete e editor online https://repl.it/languages/python3\n",
    "- PyCharm (installare per prossima lezione)\n",
    "    - Download (versione community): https://www.jetbrains.com/pycharm/download/\n",
    "- Jupyter Notebook (presentazione prima lezione)\n",
    "    - Slide su github: https://github.com/Lucaz97/Python-Intro-2019"
   ]
  },
  {
   "cell_type": "markdown",
   "metadata": {
    "slideshow": {
     "slide_type": "slide"
    }
   },
   "source": [
    "## Contenuti del corso\n",
    "### prima lezione:\n",
    "- tipi base\n",
    "- operazioni \n",
    "- controllo del flusso (if - for - while)"
   ]
  },
  {
   "cell_type": "markdown",
   "metadata": {
    "ExecuteTime": {
     "end_time": "2019-03-09T00:16:31.435427Z",
     "start_time": "2019-03-09T00:16:31.413875Z"
    },
    "slideshow": {
     "slide_type": "subslide"
    }
   },
   "source": [
    "### seconda lezione:\n",
    "- dizionari e tuple\n",
    "- pythonic loops\n",
    "- list comprehension\n",
    "- funzioni"
   ]
  },
  {
   "cell_type": "markdown",
   "metadata": {
    "ExecuteTime": {
     "end_time": "2019-03-09T00:17:59.354792Z",
     "start_time": "2019-03-09T00:17:59.344766Z"
    },
    "slideshow": {
     "slide_type": "subslide"
    }
   },
   "source": [
    "### terza lezione:\n",
    "- librerie\n",
    "- web scraper\n",
    "- classi (OOP)"
   ]
  },
  {
   "cell_type": "markdown",
   "metadata": {
    "slideshow": {
     "slide_type": "subslide"
    }
   },
   "source": [
    "### quarta lezione:\n",
    "- recap classi\n",
    "- progetto usando oop (si accettano proposte)"
   ]
  },
  {
   "cell_type": "markdown",
   "metadata": {
    "slideshow": {
     "slide_type": "slide"
    }
   },
   "source": [
    "<h1><center> Perchè Python?</center></h1>"
   ]
  },
  {
   "cell_type": "markdown",
   "metadata": {
    "ExecuteTime": {
     "end_time": "2019-01-13T20:42:23.611402Z",
     "start_time": "2019-01-13T20:42:23.605850Z"
    },
    "slideshow": {
     "slide_type": "fragment"
    }
   },
   "source": [
    "- facile da imparare"
   ]
  },
  {
   "cell_type": "markdown",
   "metadata": {
    "slideshow": {
     "slide_type": "fragment"
    }
   },
   "source": [
    "- molto versatile\n",
    "    - automatizzare task\n",
    "    - big data analysis \n",
    "    - IoT\n",
    "    - machine learning\n",
    "    - memes\n",
    "    - web server"
   ]
  },
  {
   "cell_type": "markdown",
   "metadata": {
    "slideshow": {
     "slide_type": "slide"
    }
   },
   "source": [
    "<h3><center>Pseudocodice?</center></h3>"
   ]
  },
  {
   "cell_type": "code",
   "execution_count": 1,
   "metadata": {
    "ExecuteTime": {
     "end_time": "2019-03-18T16:40:37.318206Z",
     "start_time": "2019-03-18T16:40:37.311998Z"
    },
    "scrolled": true,
    "slideshow": {
     "slide_type": "fragment"
    }
   },
   "outputs": [
    {
     "name": "stdout",
     "output_type": "stream",
     "text": [
      "73\n"
     ]
    }
   ],
   "source": [
    "lista = [4, 14, 25, 73, 3, 8]\n",
    "max_n = 0\n",
    "\n",
    "for n in lista:\n",
    "    if max_n < n:\n",
    "        max_n = n\n",
    "\n",
    "print(max_n)"
   ]
  },
  {
   "cell_type": "markdown",
   "metadata": {
    "ExecuteTime": {
     "end_time": "2018-09-20T20:29:35.757351Z",
     "start_time": "2018-09-20T20:29:35.754118Z"
    },
    "slideshow": {
     "slide_type": "slide"
    }
   },
   "source": [
    "- dynamically typed"
   ]
  },
  {
   "cell_type": "code",
   "execution_count": 2,
   "metadata": {
    "ExecuteTime": {
     "end_time": "2019-03-18T16:47:09.126042Z",
     "start_time": "2019-03-18T16:47:09.119795Z"
    },
    "slideshow": {
     "slide_type": "fragment"
    }
   },
   "outputs": [
    {
     "name": "stdout",
     "output_type": "stream",
     "text": [
      "x:  1\n",
      "y:  stringa\n",
      "x:  stringa\n",
      "y:  1\n"
     ]
    }
   ],
   "source": [
    "# nome_variabile = assegnamento\n",
    "x = 1\n",
    "print(\"x: \", x)\n",
    "y = \"stringa\"\n",
    "print(\"y: \", y)\n",
    "x = y\n",
    "print(\"x: \", x)\n",
    "y = 1\n",
    "print(\"y: \", y)\n",
    "\n",
    "# mutabilità e immutabilità..."
   ]
  },
  {
   "cell_type": "markdown",
   "metadata": {
    "slideshow": {
     "slide_type": "slide"
    }
   },
   "source": [
    "<h3><center> tipo int, float e operazioni matematiche </center></h3>\n"
   ]
  },
  {
   "cell_type": "markdown",
   "metadata": {
    "ExecuteTime": {
     "end_time": "2018-09-21T17:02:27.881615Z",
     "start_time": "2018-09-21T17:02:27.875073Z"
    },
    "slideshow": {
     "slide_type": "fragment"
    }
   },
   "source": [
    "- sono tipi immutabili"
   ]
  },
  {
   "cell_type": "code",
   "execution_count": 3,
   "metadata": {
    "ExecuteTime": {
     "end_time": "2019-03-18T16:47:55.386947Z",
     "start_time": "2019-03-18T16:47:55.380631Z"
    },
    "slideshow": {
     "slide_type": "fragment"
    }
   },
   "outputs": [
    {
     "name": "stdout",
     "output_type": "stream",
     "text": [
      "x è di tipo  <class 'int'>\n",
      "y è di tipo  <class 'float'>\n",
      "z è di tipo  <class 'complex'>\n"
     ]
    }
   ],
   "source": [
    "x = 10\n",
    "y = 10.0\n",
    "z = 10 + 4j # va bene sia j che J\n",
    "print(\"x è di tipo \", type(x))\n",
    "print(\"y è di tipo \", type(y))\n",
    "print(\"z è di tipo \", type(z))\n"
   ]
  },
  {
   "cell_type": "code",
   "execution_count": 11,
   "metadata": {
    "ExecuteTime": {
     "end_time": "2019-03-18T16:50:12.964716Z",
     "start_time": "2019-03-18T16:50:12.958567Z"
    },
    "scrolled": true,
    "slideshow": {
     "slide_type": "slide"
    }
   },
   "outputs": [
    {
     "data": {
      "text/plain": [
       "3"
      ]
     },
     "execution_count": 11,
     "metadata": {},
     "output_type": "execute_result"
    }
   ],
   "source": [
    "x = 4\n",
    "x = 5\n",
    "y = 7\n",
    "y + x"
   ]
  },
  {
   "cell_type": "markdown",
   "metadata": {
    "ExecuteTime": {
     "end_time": "2018-09-21T17:00:26.697271Z",
     "start_time": "2018-09-21T17:00:26.690951Z"
    },
    "slideshow": {
     "slide_type": "slide"
    }
   },
   "source": [
    "<h3><center> tipo string </center></h3>"
   ]
  },
  {
   "cell_type": "markdown",
   "metadata": {
    "ExecuteTime": {
     "end_time": "2018-09-21T17:02:27.881615Z",
     "start_time": "2018-09-21T17:02:27.875073Z"
    },
    "slideshow": {
     "slide_type": "fragment"
    }
   },
   "source": [
    "- sono tipi immutabili"
   ]
  },
  {
   "cell_type": "code",
   "execution_count": 12,
   "metadata": {
    "ExecuteTime": {
     "end_time": "2019-03-18T16:52:47.241183Z",
     "start_time": "2019-03-18T16:52:47.230737Z"
    },
    "slideshow": {
     "slide_type": "fragment"
    }
   },
   "outputs": [
    {
     "name": "stdout",
     "output_type": "stream",
     "text": [
      "string è di tipo: <class 'str'>\n"
     ]
    }
   ],
   "source": [
    "string = 'stringa'\n",
    "print(\"string è di tipo:\",type(string))"
   ]
  },
  {
   "cell_type": "code",
   "execution_count": 13,
   "metadata": {
    "ExecuteTime": {
     "end_time": "2019-03-18T16:53:14.063957Z",
     "start_time": "2019-03-18T16:53:14.058608Z"
    },
    "slideshow": {
     "slide_type": "fragment"
    }
   },
   "outputs": [
    {
     "data": {
      "text/plain": [
       "'\"Ok!\", risposero in coro.'"
      ]
     },
     "execution_count": 13,
     "metadata": {},
     "output_type": "execute_result"
    }
   ],
   "source": [
    "string = '\"Ok!\", risposero in coro.'\n",
    "string"
   ]
  },
  {
   "cell_type": "code",
   "execution_count": 14,
   "metadata": {
    "ExecuteTime": {
     "end_time": "2019-03-18T16:53:58.229632Z",
     "start_time": "2019-03-18T16:53:58.225845Z"
    },
    "slideshow": {
     "slide_type": "slide"
    }
   },
   "outputs": [
    {
     "name": "stdout",
     "output_type": "stream",
     "text": [
      "\"un'aquila ci assale\", disse lui.\n"
     ]
    }
   ],
   "source": [
    "string = '\"un\\'aquila ci assale\", disse lui.'\n",
    "#string\n",
    "print(string)"
   ]
  },
  {
   "cell_type": "markdown",
   "metadata": {
    "ExecuteTime": {
     "end_time": "2018-09-21T17:02:27.881615Z",
     "start_time": "2018-09-21T17:02:27.875073Z"
    },
    "slideshow": {
     "slide_type": "slide"
    }
   },
   "source": [
    "- operare con le stringhe (1)"
   ]
  },
  {
   "cell_type": "code",
   "execution_count": 15,
   "metadata": {
    "ExecuteTime": {
     "end_time": "2019-03-18T16:54:15.312921Z",
     "start_time": "2019-03-18T16:54:15.309291Z"
    },
    "slideshow": {
     "slide_type": "fragment"
    }
   },
   "outputs": [],
   "source": [
    "string = \"eestec\""
   ]
  },
  {
   "cell_type": "code",
   "execution_count": 16,
   "metadata": {
    "ExecuteTime": {
     "end_time": "2019-03-18T16:54:51.193972Z",
     "start_time": "2019-03-18T16:54:51.188312Z"
    },
    "slideshow": {
     "slide_type": "fragment"
    }
   },
   "outputs": [
    {
     "data": {
      "text/plain": [
       "'e'"
      ]
     },
     "execution_count": 16,
     "metadata": {},
     "output_type": "execute_result"
    }
   ],
   "source": [
    "# accedere a un carattere\n",
    "string[0]"
   ]
  },
  {
   "cell_type": "code",
   "execution_count": 19,
   "metadata": {
    "ExecuteTime": {
     "end_time": "2019-03-18T16:55:55.715195Z",
     "start_time": "2019-03-18T16:55:55.708979Z"
    },
    "slideshow": {
     "slide_type": "fragment"
    }
   },
   "outputs": [
    {
     "data": {
      "text/plain": [
       "'st'"
      ]
     },
     "execution_count": 19,
     "metadata": {},
     "output_type": "execute_result"
    }
   ],
   "source": [
    "# indici negativi inicizzano da destra:\n",
    "string[2:4]  "
   ]
  },
  {
   "cell_type": "code",
   "execution_count": null,
   "metadata": {
    "ExecuteTime": {
     "end_time": "2019-03-17T11:18:19.872951Z",
     "start_time": "2019-03-17T11:18:19.870233Z"
    },
    "slideshow": {
     "slide_type": "fragment"
    }
   },
   "outputs": [],
   "source": [
    "# posso selezionare anche degli intervalli:\n",
    "string[2:4] "
   ]
  },
  {
   "cell_type": "markdown",
   "metadata": {
    "ExecuteTime": {
     "end_time": "2018-09-21T17:02:27.881615Z",
     "start_time": "2018-09-21T17:02:27.875073Z"
    },
    "slideshow": {
     "slide_type": "slide"
    }
   },
   "source": [
    "- operare con le stringhe (2)"
   ]
  },
  {
   "cell_type": "code",
   "execution_count": 20,
   "metadata": {
    "ExecuteTime": {
     "end_time": "2019-03-18T16:56:30.896231Z",
     "start_time": "2019-03-18T16:56:30.892603Z"
    },
    "slideshow": {
     "slide_type": "fragment"
    }
   },
   "outputs": [],
   "source": [
    "string = \"eestec\""
   ]
  },
  {
   "cell_type": "code",
   "execution_count": 25,
   "metadata": {
    "ExecuteTime": {
     "end_time": "2019-03-18T16:58:07.641239Z",
     "start_time": "2019-03-18T16:58:07.635159Z"
    },
    "slideshow": {
     "slide_type": "fragment"
    }
   },
   "outputs": [
    {
     "data": {
      "text/plain": [
       "'eestec'"
      ]
     },
     "execution_count": 25,
     "metadata": {},
     "output_type": "execute_result"
    }
   ],
   "source": [
    "# operatore somma -> concatenazione\n",
    "#\"ab\" + \"cd\"\n",
    "string[:3] + string[3:]"
   ]
  },
  {
   "cell_type": "code",
   "execution_count": 26,
   "metadata": {
    "ExecuteTime": {
     "end_time": "2019-03-18T16:58:26.382809Z",
     "start_time": "2019-03-18T16:58:26.377036Z"
    },
    "slideshow": {
     "slide_type": "fragment"
    }
   },
   "outputs": [
    {
     "data": {
      "text/plain": [
       "'ciao ciao ciao '"
      ]
     },
     "execution_count": 26,
     "metadata": {},
     "output_type": "execute_result"
    }
   ],
   "source": [
    "# operatore moltiplicazione per n, n intero -> ripete la stringa n volte\n",
    "\"ciao \" * 3 \n"
   ]
  },
  {
   "cell_type": "markdown",
   "metadata": {
    "slideshow": {
     "slide_type": "slide"
    }
   },
   "source": [
    "- stampare stringhe "
   ]
  },
  {
   "cell_type": "code",
   "execution_count": 30,
   "metadata": {
    "ExecuteTime": {
     "end_time": "2019-03-18T17:02:34.414536Z",
     "start_time": "2019-03-18T17:02:34.408471Z"
    },
    "slideshow": {
     "slide_type": "fragment"
    }
   },
   "outputs": [
    {
     "name": "stdout",
     "output_type": "stream",
     "text": [
      "la variabile n contiene: 2\n"
     ]
    }
   ],
   "source": [
    "n = 2\n",
    "c = 'n'\n",
    "print(\"la variabile \" + 'n' + \" contiene: \" + str(n))"
   ]
  },
  {
   "cell_type": "code",
   "execution_count": 31,
   "metadata": {
    "ExecuteTime": {
     "end_time": "2019-03-18T17:02:51.218744Z",
     "start_time": "2019-03-18T17:02:51.208216Z"
    },
    "slideshow": {
     "slide_type": "fragment"
    }
   },
   "outputs": [
    {
     "name": "stdout",
     "output_type": "stream",
     "text": [
      "la variabile n contiene, 2\n"
     ]
    }
   ],
   "source": [
    "print(\"la variabile\", 'n', \"contiene,\", n)"
   ]
  },
  {
   "cell_type": "code",
   "execution_count": 29,
   "metadata": {
    "ExecuteTime": {
     "end_time": "2019-03-18T17:01:38.891685Z",
     "start_time": "2019-03-18T17:01:38.884317Z"
    },
    "slideshow": {
     "slide_type": "fragment"
    }
   },
   "outputs": [
    {
     "name": "stdout",
     "output_type": "stream",
     "text": [
      "la variabile n contiene: 2\n"
     ]
    }
   ],
   "source": [
    "# la formattazione C per le stringhe è supportata\n",
    "print(\"la variabile %c contiene: %d\" % (c, n))"
   ]
  },
  {
   "cell_type": "markdown",
   "metadata": {
    "slideshow": {
     "slide_type": "slide"
    }
   },
   "source": [
    "<h3><center> liste </center></h3>"
   ]
  },
  {
   "cell_type": "code",
   "execution_count": 32,
   "metadata": {
    "ExecuteTime": {
     "end_time": "2019-03-18T17:04:39.360319Z",
     "start_time": "2019-03-18T17:04:39.354167Z"
    },
    "slideshow": {
     "slide_type": "fragment"
    }
   },
   "outputs": [
    {
     "data": {
      "text/plain": [
       "list"
      ]
     },
     "execution_count": 32,
     "metadata": {},
     "output_type": "execute_result"
    }
   ],
   "source": [
    "# si inizializzano con [elemento1, elemento2, ..., elementoN]\n",
    "x = [0, 1, 2, 3]\n",
    "type(x)"
   ]
  },
  {
   "cell_type": "code",
   "execution_count": 34,
   "metadata": {
    "ExecuteTime": {
     "end_time": "2019-03-18T17:05:40.261121Z",
     "start_time": "2019-03-18T17:05:40.255549Z"
    },
    "slideshow": {
     "slide_type": "fragment"
    }
   },
   "outputs": [
    {
     "data": {
      "text/plain": [
       "[1, 2]"
      ]
     },
     "execution_count": 34,
     "metadata": {},
     "output_type": "execute_result"
    }
   ],
   "source": [
    "# si indicizzano con [n]\n",
    "x[1:3]"
   ]
  },
  {
   "cell_type": "code",
   "execution_count": null,
   "metadata": {
    "ExecuteTime": {
     "end_time": "2019-03-17T11:18:33.012778Z",
     "start_time": "2019-03-17T11:18:33.009820Z"
    },
    "slideshow": {
     "slide_type": "fragment"
    }
   },
   "outputs": [],
   "source": [
    "# selezionare una sottolista: [n:m]\n",
    "sublist = x[1:3]\n",
    "sublist"
   ]
  },
  {
   "cell_type": "markdown",
   "metadata": {
    "slideshow": {
     "slide_type": "slide"
    }
   },
   "source": [
    "- sono mutabili"
   ]
  },
  {
   "cell_type": "code",
   "execution_count": 35,
   "metadata": {
    "ExecuteTime": {
     "end_time": "2019-03-18T17:07:05.601629Z",
     "start_time": "2019-03-18T17:07:05.596625Z"
    },
    "slideshow": {
     "slide_type": "fragment"
    }
   },
   "outputs": [
    {
     "name": "stdout",
     "output_type": "stream",
     "text": [
      "[0, 1, 2, 3]\n",
      "[0, 1, 4, 3]\n"
     ]
    }
   ],
   "source": [
    "x = [0,1,2,3]\n",
    "print(x)\n",
    "x[2] = 4\n",
    "print(x)"
   ]
  },
  {
   "cell_type": "markdown",
   "metadata": {
    "slideshow": {
     "slide_type": "slide"
    }
   },
   "source": [
    "<h3><center>ATTENZIONE!</center></h3>"
   ]
  },
  {
   "cell_type": "code",
   "execution_count": 36,
   "metadata": {
    "ExecuteTime": {
     "end_time": "2019-03-18T17:10:21.379699Z",
     "start_time": "2019-03-18T17:10:21.373876Z"
    },
    "slideshow": {
     "slide_type": "fragment"
    }
   },
   "outputs": [
    {
     "name": "stdout",
     "output_type": "stream",
     "text": [
      "x:  [0, 1, 2, 3]\n",
      "y:  [0, 1, 2, 3]\n"
     ]
    }
   ],
   "source": [
    "x = [0, 1, 2, 3]\n",
    "y = x\n",
    "print(\"x: \", x)\n",
    "print(\"y: \", y)"
   ]
  },
  {
   "cell_type": "code",
   "execution_count": 37,
   "metadata": {
    "ExecuteTime": {
     "end_time": "2019-03-18T17:10:37.714759Z",
     "start_time": "2019-03-18T17:10:37.710033Z"
    },
    "slideshow": {
     "slide_type": "fragment"
    }
   },
   "outputs": [
    {
     "name": "stdout",
     "output_type": "stream",
     "text": [
      "[0, 1, 10, 3]\n"
     ]
    }
   ],
   "source": [
    "y[2] = 10\n",
    "print(y)"
   ]
  },
  {
   "cell_type": "code",
   "execution_count": 38,
   "metadata": {
    "ExecuteTime": {
     "end_time": "2019-03-18T17:11:03.869611Z",
     "start_time": "2019-03-18T17:11:03.865198Z"
    },
    "slideshow": {
     "slide_type": "fragment"
    }
   },
   "outputs": [
    {
     "name": "stdout",
     "output_type": "stream",
     "text": [
      "[0, 1, 10, 3]\n"
     ]
    }
   ],
   "source": [
    "print(x)"
   ]
  },
  {
   "cell_type": "markdown",
   "metadata": {
    "slideshow": {
     "slide_type": "slide"
    }
   },
   "source": [
    "- liste di tipo ETEROGENEO"
   ]
  },
  {
   "cell_type": "code",
   "execution_count": 39,
   "metadata": {
    "ExecuteTime": {
     "end_time": "2019-03-18T17:19:03.226320Z",
     "start_time": "2019-03-18T17:19:03.219875Z"
    },
    "slideshow": {
     "slide_type": "fragment"
    }
   },
   "outputs": [
    {
     "data": {
      "text/plain": [
       "['ciao',\n",
       " 3,\n",
       " [0, 1, 2],\n",
       " 'cammello',\n",
       " ['n', 'o', 'n', ['fate', 'questo', 'a', 'casa']],\n",
       " (4+6j),\n",
       " 3.09]"
      ]
     },
     "execution_count": 39,
     "metadata": {},
     "output_type": "execute_result"
    }
   ],
   "source": [
    "lista = [\"ciao\", 3 , [0, 1, 2], \"cammello\", ['n', 'o','n', ['fate', \"questo\", \"a\", \"casa\"]], 4+6j, 3.09]\n",
    "lista"
   ]
  },
  {
   "cell_type": "markdown",
   "metadata": {
    "slideshow": {
     "slide_type": "fragment"
    }
   },
   "source": [
    "<h4><center>solo perchè si può fare non vuol dire che sia una buona idea farlo</center></h4>"
   ]
  },
  {
   "cell_type": "code",
   "execution_count": 40,
   "metadata": {
    "ExecuteTime": {
     "end_time": "2019-03-18T17:19:05.248207Z",
     "start_time": "2019-03-18T17:19:05.243155Z"
    },
    "slideshow": {
     "slide_type": "fragment"
    }
   },
   "outputs": [
    {
     "data": {
      "text/plain": [
       "'s'"
      ]
     },
     "execution_count": 40,
     "metadata": {},
     "output_type": "execute_result"
    }
   ],
   "source": [
    "lista[4][3][1][3]"
   ]
  },
  {
   "cell_type": "markdown",
   "metadata": {
    "ExecuteTime": {
     "end_time": "2018-09-24T08:43:21.169227Z",
     "start_time": "2018-09-24T08:43:21.158877Z"
    },
    "slideshow": {
     "slide_type": "slide"
    }
   },
   "source": [
    "- operare con le liste"
   ]
  },
  {
   "cell_type": "code",
   "execution_count": 42,
   "metadata": {
    "ExecuteTime": {
     "end_time": "2019-03-18T17:20:23.246191Z",
     "start_time": "2019-03-18T17:20:23.241167Z"
    },
    "slideshow": {
     "slide_type": "fragment"
    }
   },
   "outputs": [
    {
     "name": "stdout",
     "output_type": "stream",
     "text": [
      "[0, 1, 2, 3, 4, 5]\n"
     ]
    }
   ],
   "source": [
    "# operatore somma --> concatenzazione\n",
    "x = [0, 1, 2]\n",
    "y = [3, 4, 5]\n",
    "z = x + y\n",
    "print(z)"
   ]
  },
  {
   "cell_type": "code",
   "execution_count": 46,
   "metadata": {
    "ExecuteTime": {
     "end_time": "2019-03-18T17:21:45.197544Z",
     "start_time": "2019-03-18T17:21:45.190890Z"
    },
    "slideshow": {
     "slide_type": "fragment"
    }
   },
   "outputs": [
    {
     "data": {
      "text/plain": [
       "[1, 2, 3, 1, 2, 3, 1, 2, 3]"
      ]
     },
     "execution_count": 46,
     "metadata": {},
     "output_type": "execute_result"
    }
   ],
   "source": [
    "# operatore moltiplicazione per n --> ripete lista n volte\n",
    "x = [1,2,3]*3\n",
    "x"
   ]
  },
  {
   "cell_type": "markdown",
   "metadata": {
    "slideshow": {
     "slide_type": "slide"
    }
   },
   "source": [
    "<h3><center>ATTENZIONE!</center></h3>"
   ]
  },
  {
   "cell_type": "code",
   "execution_count": 53,
   "metadata": {
    "ExecuteTime": {
     "end_time": "2019-03-18T17:24:03.058969Z",
     "start_time": "2019-03-18T17:24:03.052012Z"
    },
    "slideshow": {
     "slide_type": "fragment"
    }
   },
   "outputs": [
    {
     "data": {
      "text/plain": [
       "[0, 1, 2]"
      ]
     },
     "execution_count": 53,
     "metadata": {},
     "output_type": "execute_result"
    }
   ],
   "source": [
    "x = [0, 1, 2]\n",
    "z = x\n",
    "z"
   ]
  },
  {
   "cell_type": "code",
   "execution_count": 54,
   "metadata": {
    "ExecuteTime": {
     "end_time": "2019-03-18T17:24:04.365831Z",
     "start_time": "2019-03-18T17:24:04.356246Z"
    },
    "slideshow": {
     "slide_type": "fragment"
    }
   },
   "outputs": [
    {
     "name": "stdout",
     "output_type": "stream",
     "text": [
      "z:  [0, 1, 2, 3, 4, 5]\n",
      "x:  [0, 1, 2]\n"
     ]
    }
   ],
   "source": [
    "z = z + [3, 4, 5]\n",
    "print(\"z: \", z)\n",
    "print(\"x: \", x)"
   ]
  },
  {
   "cell_type": "code",
   "execution_count": 55,
   "metadata": {
    "ExecuteTime": {
     "end_time": "2019-03-18T17:24:05.985630Z",
     "start_time": "2019-03-18T17:24:05.975562Z"
    },
    "scrolled": true,
    "slideshow": {
     "slide_type": "fragment"
    }
   },
   "outputs": [
    {
     "name": "stdout",
     "output_type": "stream",
     "text": [
      "z:  [0, 1, 2, 3, 4, 5]\n",
      "x:  [0, 1, 2, 3, 4, 5]\n"
     ]
    }
   ],
   "source": [
    "z = x\n",
    "z += [3, 4, 5]\n",
    "print(\"z: \", z)\n",
    "print(\"x: \", x)"
   ]
  },
  {
   "cell_type": "markdown",
   "metadata": {
    "ExecuteTime": {
     "end_time": "2018-09-24T09:04:31.596692Z",
     "start_time": "2018-09-24T09:04:31.591550Z"
    },
    "slideshow": {
     "slide_type": "slide"
    }
   },
   "source": [
    "- funzioni per le liste (1)\n",
    "\n"
   ]
  },
  {
   "cell_type": "code",
   "execution_count": 69,
   "metadata": {
    "ExecuteTime": {
     "end_time": "2019-03-18T17:29:32.525187Z",
     "start_time": "2019-03-18T17:29:32.519259Z"
    },
    "slideshow": {
     "slide_type": "fragment"
    }
   },
   "outputs": [
    {
     "data": {
      "text/plain": [
       "[1, 2, 3, 5]"
      ]
     },
     "execution_count": 69,
     "metadata": {},
     "output_type": "execute_result"
    }
   ],
   "source": [
    "# inserire un elemento x nella posizione i: insert(i,x)\n",
    "lista = [1,2,3]\n",
    "lista.insert(len(lista), 5) #inserisco 4 in testa\n",
    "lista"
   ]
  },
  {
   "cell_type": "code",
   "execution_count": 60,
   "metadata": {
    "ExecuteTime": {
     "end_time": "2019-03-18T17:27:30.800371Z",
     "start_time": "2019-03-18T17:27:30.791874Z"
    },
    "slideshow": {
     "slide_type": "fragment"
    }
   },
   "outputs": [],
   "source": [
    "# elimina e restituisce l'ultimo elemento della lista: pop()\n",
    "lista.append(5)"
   ]
  },
  {
   "cell_type": "code",
   "execution_count": 65,
   "metadata": {
    "ExecuteTime": {
     "end_time": "2019-03-18T17:28:39.618247Z",
     "start_time": "2019-03-18T17:28:39.612742Z"
    },
    "slideshow": {
     "slide_type": "fragment"
    }
   },
   "outputs": [
    {
     "data": {
      "text/plain": [
       "3"
      ]
     },
     "execution_count": 65,
     "metadata": {},
     "output_type": "execute_result"
    }
   ],
   "source": [
    "lista= [1,2,3]\n",
    "lista[-1]"
   ]
  },
  {
   "cell_type": "markdown",
   "metadata": {
    "ExecuteTime": {
     "end_time": "2018-09-24T09:04:31.596692Z",
     "start_time": "2018-09-24T09:04:31.591550Z"
    },
    "slideshow": {
     "slide_type": "slide"
    }
   },
   "source": [
    "- funzioni per le liste (2)\n",
    "\n"
   ]
  },
  {
   "cell_type": "code",
   "execution_count": 70,
   "metadata": {
    "ExecuteTime": {
     "end_time": "2019-03-18T17:30:26.133987Z",
     "start_time": "2019-03-18T17:30:26.128524Z"
    },
    "slideshow": {
     "slide_type": "fragment"
    }
   },
   "outputs": [
    {
     "data": {
      "text/plain": [
       "2"
      ]
     },
     "execution_count": 70,
     "metadata": {},
     "output_type": "execute_result"
    }
   ],
   "source": [
    "# trovare l'indice di un elemento: index(el)\n",
    "lista = [1, 2, 3, 4, 5]\n",
    "lista.index(3)"
   ]
  },
  {
   "cell_type": "code",
   "execution_count": 71,
   "metadata": {
    "ExecuteTime": {
     "end_time": "2019-03-18T17:30:32.335822Z",
     "start_time": "2019-03-18T17:30:32.330321Z"
    },
    "slideshow": {
     "slide_type": "fragment"
    }
   },
   "outputs": [
    {
     "data": {
      "text/plain": [
       "[1, 2, 3, 4, 5, 1]"
      ]
     },
     "execution_count": 71,
     "metadata": {},
     "output_type": "execute_result"
    }
   ],
   "source": [
    "# inserire in ultima posizione\n",
    "lista.append(1)\n",
    "lista"
   ]
  },
  {
   "cell_type": "code",
   "execution_count": 72,
   "metadata": {
    "ExecuteTime": {
     "end_time": "2019-03-18T17:30:44.282946Z",
     "start_time": "2019-03-18T17:30:44.276748Z"
    },
    "slideshow": {
     "slide_type": "fragment"
    }
   },
   "outputs": [
    {
     "data": {
      "text/plain": [
       "0"
      ]
     },
     "execution_count": 72,
     "metadata": {},
     "output_type": "execute_result"
    }
   ],
   "source": [
    "# index trova il primo elemento in caso ce ne sia più di uno uguale\n",
    "lista.index(1)"
   ]
  },
  {
   "cell_type": "markdown",
   "metadata": {
    "ExecuteTime": {
     "end_time": "2018-09-24T09:04:31.596692Z",
     "start_time": "2018-09-24T09:04:31.591550Z"
    },
    "slideshow": {
     "slide_type": "slide"
    }
   },
   "source": [
    "- funzioni per le liste (3)\n",
    "\n"
   ]
  },
  {
   "cell_type": "code",
   "execution_count": 73,
   "metadata": {
    "ExecuteTime": {
     "end_time": "2019-03-18T17:31:05.211661Z",
     "start_time": "2019-03-18T17:31:05.199798Z"
    },
    "slideshow": {
     "slide_type": "fragment"
    }
   },
   "outputs": [
    {
     "ename": "ValueError",
     "evalue": "9 is not in list",
     "output_type": "error",
     "traceback": [
      "\u001b[0;31m---------------------------------------------------------------------------\u001b[0m",
      "\u001b[0;31mValueError\u001b[0m                                Traceback (most recent call last)",
      "\u001b[0;32m<ipython-input-73-39acc975d086>\u001b[0m in \u001b[0;36m<module>\u001b[0;34m()\u001b[0m\n\u001b[1;32m      1\u001b[0m \u001b[0mlista\u001b[0m \u001b[0;34m=\u001b[0m \u001b[0;34m[\u001b[0m\u001b[0;36m1\u001b[0m\u001b[0;34m,\u001b[0m \u001b[0;36m2\u001b[0m\u001b[0;34m,\u001b[0m \u001b[0;36m3\u001b[0m\u001b[0;34m]\u001b[0m\u001b[0;34m\u001b[0m\u001b[0;34m\u001b[0m\u001b[0m\n\u001b[1;32m      2\u001b[0m \u001b[0;31m# se l'elemento non esiste ritorna un errore\u001b[0m\u001b[0;34m\u001b[0m\u001b[0;34m\u001b[0m\u001b[0;34m\u001b[0m\u001b[0m\n\u001b[0;32m----> 3\u001b[0;31m \u001b[0mlista\u001b[0m\u001b[0;34m.\u001b[0m\u001b[0mindex\u001b[0m\u001b[0;34m(\u001b[0m\u001b[0;36m9\u001b[0m\u001b[0;34m)\u001b[0m\u001b[0;34m\u001b[0m\u001b[0;34m\u001b[0m\u001b[0m\n\u001b[0m",
      "\u001b[0;31mValueError\u001b[0m: 9 is not in list"
     ]
    }
   ],
   "source": [
    "lista = [1, 2, 3]\n",
    "# se l'elemento non esiste ritorna un errore\n",
    "lista.index(9)"
   ]
  },
  {
   "cell_type": "markdown",
   "metadata": {
    "ExecuteTime": {
     "end_time": "2018-09-28T17:31:04.614994Z",
     "start_time": "2018-09-28T17:31:04.610840Z"
    },
    "slideshow": {
     "slide_type": "slide"
    }
   },
   "source": [
    "soluzione: controllo prima che l'elemento esista"
   ]
  },
  {
   "cell_type": "code",
   "execution_count": 74,
   "metadata": {
    "ExecuteTime": {
     "end_time": "2019-03-18T17:32:26.216556Z",
     "start_time": "2019-03-18T17:32:26.212294Z"
    },
    "slideshow": {
     "slide_type": "fragment"
    }
   },
   "outputs": [],
   "source": [
    "lista = [1,2,3]\n",
    "if 9 in lista:\n",
    "    print(\"9 è nella posizione\", lista.index(9))"
   ]
  },
  {
   "cell_type": "markdown",
   "metadata": {
    "slideshow": {
     "slide_type": "slide"
    }
   },
   "source": [
    "<h3><center> if statement </center></h3>"
   ]
  },
  {
   "cell_type": "code",
   "execution_count": 75,
   "metadata": {
    "ExecuteTime": {
     "end_time": "2019-03-18T17:34:59.096428Z",
     "start_time": "2019-03-18T17:34:59.092164Z"
    },
    "slideshow": {
     "slide_type": "fragment"
    }
   },
   "outputs": [],
   "source": [
    "# if <condition>:\n",
    "#    fai qualcosa\n",
    "lista = [1, 2, 3]\n",
    "\n",
    "if 9 in lista:\n",
    "    lista.index(9)\n",
    "# indentazione necessaria "
   ]
  },
  {
   "cell_type": "code",
   "execution_count": 83,
   "metadata": {
    "ExecuteTime": {
     "end_time": "2019-03-18T17:39:36.466310Z",
     "start_time": "2019-03-18T17:39:36.460886Z"
    },
    "slideshow": {
     "slide_type": "fragment"
    }
   },
   "outputs": [
    {
     "name": "stdout",
     "output_type": "stream",
     "text": [
      "seconda condizione\n"
     ]
    }
   ],
   "source": [
    "x = 8\n",
    "y = 10\n",
    "#if x >2 and x < 10:\n",
    "if 9 < x < 10:\n",
    "    print(\"condizione verificata\")\n",
    "elif y > 3:\n",
    "    print(\"seconda condizione\")"
   ]
  },
  {
   "cell_type": "markdown",
   "metadata": {
    "slideshow": {
     "slide_type": "slide"
    }
   },
   "source": [
    "<h3><center> Loops </center></h3>"
   ]
  },
  {
   "cell_type": "markdown",
   "metadata": {
    "slideshow": {
     "slide_type": "fragment"
    }
   },
   "source": [
    "- for"
   ]
  },
  {
   "cell_type": "code",
   "execution_count": 90,
   "metadata": {
    "ExecuteTime": {
     "end_time": "2019-03-18T17:47:07.141162Z",
     "start_time": "2019-03-18T17:47:07.135881Z"
    },
    "slideshow": {
     "slide_type": "fragment"
    }
   },
   "outputs": [
    {
     "data": {
      "text/plain": [
       "range(4, 10)"
      ]
     },
     "execution_count": 90,
     "metadata": {},
     "output_type": "execute_result"
    }
   ],
   "source": [
    "nums = [1,2,3]\n",
    "for i in range(1000000): #[0,1,2]\n",
    "    print(\"ciao\")"
   ]
  },
  {
   "cell_type": "code",
   "execution_count": null,
   "metadata": {
    "ExecuteTime": {
     "end_time": "2019-03-17T11:19:25.555181Z",
     "start_time": "2019-03-17T11:19:25.553453Z"
    },
    "slideshow": {
     "slide_type": "fragment"
    }
   },
   "outputs": [],
   "source": [
    "# for elemento in lista:\n",
    "#    fai qualcosa per ogni elemento nella lista"
   ]
  },
  {
   "cell_type": "markdown",
   "metadata": {
    "slideshow": {
     "slide_type": "slide"
    }
   },
   "source": [
    "- while"
   ]
  },
  {
   "cell_type": "code",
   "execution_count": 91,
   "metadata": {
    "ExecuteTime": {
     "end_time": "2019-03-18T17:48:24.557885Z",
     "start_time": "2019-03-18T17:48:24.552172Z"
    },
    "slideshow": {
     "slide_type": "fragment"
    }
   },
   "outputs": [
    {
     "name": "stdout",
     "output_type": "stream",
     "text": [
      "10\n",
      "5\n",
      "3\n",
      "2\n"
     ]
    }
   ],
   "source": [
    "x = 10\n",
    "while x > 1:\n",
    "    print(x)\n",
    "    x -= x//2"
   ]
  },
  {
   "cell_type": "code",
   "execution_count": null,
   "metadata": {
    "ExecuteTime": {
     "end_time": "2019-03-17T11:19:28.647544Z",
     "start_time": "2019-03-17T11:19:28.642398Z"
    },
    "slideshow": {
     "slide_type": "fragment"
    }
   },
   "outputs": [],
   "source": [
    "# while condizione:\n",
    "#    fai qualcosa fintanto che la condizione è verificata"
   ]
  },
  {
   "cell_type": "code",
   "execution_count": 105,
   "metadata": {
    "ExecuteTime": {
     "end_time": "2019-03-18T18:02:04.347065Z",
     "start_time": "2019-03-18T18:01:55.340111Z"
    },
    "slideshow": {
     "slide_type": "slide"
    }
   },
   "outputs": [
    {
     "name": "stdout",
     "output_type": "stream",
     "text": [
      "media esperimenti eseguiti: 2143.521\n"
     ]
    }
   ],
   "source": [
    "import random\n",
    "\n",
    "cont = 0\n",
    "esperimenti = 0\n",
    "\n",
    "for i in range(1000):\n",
    "    cont = 0\n",
    "    while cont < 10:\n",
    "        num = random.randint(1,100)\n",
    "        if num%2 == 0:\n",
    "            cont += 1\n",
    "        else:\n",
    "            cont = 0\n",
    "        esperimenti += 1\n",
    "\n",
    "print(\"media esperimenti eseguiti:\",esperimenti/1000)"
   ]
  },
  {
   "cell_type": "code",
   "execution_count": 93,
   "metadata": {
    "ExecuteTime": {
     "end_time": "2019-03-18T17:55:01.262413Z",
     "start_time": "2019-03-18T17:55:01.254533Z"
    },
    "slideshow": {
     "slide_type": "fragment"
    }
   },
   "outputs": [
    {
     "data": {
      "text/plain": [
       "57"
      ]
     },
     "execution_count": 93,
     "metadata": {},
     "output_type": "execute_result"
    }
   ],
   "source": []
  },
  {
   "cell_type": "markdown",
   "metadata": {
    "slideshow": {
     "slide_type": "slide"
    }
   },
   "source": [
    "<font size=\"6\">Calcolare empiricamente la probabilità di ottenere 10 teste consecutive. <br>\n",
    "Usare la libreria random.</font>"
   ]
  },
  {
   "cell_type": "code",
   "execution_count": null,
   "metadata": {
    "ExecuteTime": {
     "end_time": "2019-03-02T16:36:14.746892Z",
     "start_time": "2019-03-02T16:36:12.513684Z"
    },
    "slideshow": {
     "slide_type": "fragment"
    }
   },
   "outputs": [],
   "source": []
  }
 ],
 "metadata": {
  "celltoolbar": "Slideshow",
  "kernelspec": {
   "display_name": "Python 3",
   "language": "python",
   "name": "python3"
  },
  "language_info": {
   "codemirror_mode": {
    "name": "ipython",
    "version": 3
   },
   "file_extension": ".py",
   "mimetype": "text/x-python",
   "name": "python",
   "nbconvert_exporter": "python",
   "pygments_lexer": "ipython3",
   "version": "3.6.8"
  },
  "livereveal": {
   "autolaunch": true,
   "transition": "zoom"
  }
 },
 "nbformat": 4,
 "nbformat_minor": 2
}
